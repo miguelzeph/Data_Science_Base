{
 "cells": [
  {
   "cell_type": "markdown",
   "metadata": {},
   "source": [
    "# Analysis and Predictions\n",
    "\n",
    "Miguel Angelo do Amaral Junior"
   ]
  },
  {
   "cell_type": "markdown",
   "metadata": {},
   "source": [
    "### Import Libraries"
   ]
  },
  {
   "cell_type": "code",
   "execution_count": 3,
   "metadata": {},
   "outputs": [
    {
     "data": {
      "text/html": [
       "<div>\n",
       "<style scoped>\n",
       "    .dataframe tbody tr th:only-of-type {\n",
       "        vertical-align: middle;\n",
       "    }\n",
       "\n",
       "    .dataframe tbody tr th {\n",
       "        vertical-align: top;\n",
       "    }\n",
       "\n",
       "    .dataframe thead th {\n",
       "        text-align: right;\n",
       "    }\n",
       "</style>\n",
       "<table border=\"1\" class=\"dataframe\">\n",
       "  <thead>\n",
       "    <tr style=\"text-align: right;\">\n",
       "      <th></th>\n",
       "      <th>managers</th>\n",
       "      <th>name</th>\n",
       "      <th>priority</th>\n",
       "      <th>watchers</th>\n",
       "    </tr>\n",
       "  </thead>\n",
       "  <tbody>\n",
       "    <tr>\n",
       "      <th>0</th>\n",
       "      <td>[csaftoiu, merlin]</td>\n",
       "      <td>[CV] [Qt] OpenCV GUI</td>\n",
       "      <td>850</td>\n",
       "      <td>[merlin, morris]</td>\n",
       "    </tr>\n",
       "    <tr>\n",
       "      <th>1</th>\n",
       "      <td>[merlin]</td>\n",
       "      <td>[Web] pm-site</td>\n",
       "      <td>260</td>\n",
       "      <td>[csaftoiu, jpfarias, morris]</td>\n",
       "    </tr>\n",
       "    <tr>\n",
       "      <th>2</th>\n",
       "      <td>[luanda]</td>\n",
       "      <td>Annotations</td>\n",
       "      <td>10</td>\n",
       "      <td>[csaftoiu, merlin, victor]</td>\n",
       "    </tr>\n",
       "    <tr>\n",
       "      <th>3</th>\n",
       "      <td>[csaftoiu]</td>\n",
       "      <td>[OCR] tesseract MRZ reading</td>\n",
       "      <td>560</td>\n",
       "      <td>[arturc, merlin]</td>\n",
       "    </tr>\n",
       "    <tr>\n",
       "      <th>4</th>\n",
       "      <td>[morris]</td>\n",
       "      <td>Deepgammon</td>\n",
       "      <td>150</td>\n",
       "      <td>[merlin, victor]</td>\n",
       "    </tr>\n",
       "    <tr>\n",
       "      <th>5</th>\n",
       "      <td>[merlin]</td>\n",
       "      <td>python training lucas</td>\n",
       "      <td>2160</td>\n",
       "      <td>[csaftoiu, morris]</td>\n",
       "    </tr>\n",
       "    <tr>\n",
       "      <th>6</th>\n",
       "      <td>[merlin]</td>\n",
       "      <td>python training alysson</td>\n",
       "      <td>2180</td>\n",
       "      <td>[csaftoiu, morris]</td>\n",
       "    </tr>\n",
       "    <tr>\n",
       "      <th>7</th>\n",
       "      <td>[csaftoiu]</td>\n",
       "      <td>unity render different passport text</td>\n",
       "      <td>2230</td>\n",
       "      <td>[merlin, morris]</td>\n",
       "    </tr>\n",
       "    <tr>\n",
       "      <th>8</th>\n",
       "      <td>[csaftoiu]</td>\n",
       "      <td>[template] unity render passport text</td>\n",
       "      <td>2235</td>\n",
       "      <td>[merlin, morris]</td>\n",
       "    </tr>\n",
       "    <tr>\n",
       "      <th>9</th>\n",
       "      <td>[arturc, csaftoiu]</td>\n",
       "      <td>unity render diff passport text artur</td>\n",
       "      <td>815</td>\n",
       "      <td>[merlin, morris]</td>\n",
       "    </tr>\n",
       "    <tr>\n",
       "      <th>10</th>\n",
       "      <td>[merlin]</td>\n",
       "      <td>unity render diff passport text - kennedy</td>\n",
       "      <td>2260</td>\n",
       "      <td>[csaftoiu, merlin, morris]</td>\n",
       "    </tr>\n",
       "    <tr>\n",
       "      <th>11</th>\n",
       "      <td>[merlin]</td>\n",
       "      <td>Unity Render Passport Text [Template]</td>\n",
       "      <td>2265</td>\n",
       "      <td>[csaftoiu, merlin, morris]</td>\n",
       "    </tr>\n",
       "    <tr>\n",
       "      <th>12</th>\n",
       "      <td>[victor-mgr]</td>\n",
       "      <td>mateus silva bg deep checkers</td>\n",
       "      <td>2295</td>\n",
       "      <td>[csaftoiu, merlin]</td>\n",
       "    </tr>\n",
       "    <tr>\n",
       "      <th>13</th>\n",
       "      <td>[victor-mgr]</td>\n",
       "      <td>Android Camera App rrocha</td>\n",
       "      <td>2300</td>\n",
       "      <td>[csaftoiu, merlin]</td>\n",
       "    </tr>\n",
       "    <tr>\n",
       "      <th>14</th>\n",
       "      <td>[victor-mgr]</td>\n",
       "      <td>bg deep learning aporto</td>\n",
       "      <td>2305</td>\n",
       "      <td>[csaftoiu, merlin]</td>\n",
       "    </tr>\n",
       "    <tr>\n",
       "      <th>15</th>\n",
       "      <td>[victor-mgr]</td>\n",
       "      <td>bg deep checkers rvalentim</td>\n",
       "      <td>2310</td>\n",
       "      <td>[csaftoiu, merlin]</td>\n",
       "    </tr>\n",
       "    <tr>\n",
       "      <th>16</th>\n",
       "      <td>[victor-mgr]</td>\n",
       "      <td>tourney site famador</td>\n",
       "      <td>2320</td>\n",
       "      <td>[csaftoiu, merlin]</td>\n",
       "    </tr>\n",
       "    <tr>\n",
       "      <th>17</th>\n",
       "      <td>[merlin]</td>\n",
       "      <td>chess board finder eliaquim</td>\n",
       "      <td>2330</td>\n",
       "      <td>[csaftoiu, victor-mgr]</td>\n",
       "    </tr>\n",
       "    <tr>\n",
       "      <th>18</th>\n",
       "      <td>[victor-mgr]</td>\n",
       "      <td>tourney site ariel</td>\n",
       "      <td>2340</td>\n",
       "      <td>[csaftoiu, merlin]</td>\n",
       "    </tr>\n",
       "    <tr>\n",
       "      <th>19</th>\n",
       "      <td>[victor-mgr]</td>\n",
       "      <td>tourney site tbarbalho</td>\n",
       "      <td>2345</td>\n",
       "      <td>[csaftoiu, merlin]</td>\n",
       "    </tr>\n",
       "    <tr>\n",
       "      <th>20</th>\n",
       "      <td>[merlin]</td>\n",
       "      <td>[CHESS] Live Demo Executive</td>\n",
       "      <td>750</td>\n",
       "      <td>[csaftoiu, morris]</td>\n",
       "    </tr>\n",
       "    <tr>\n",
       "      <th>21</th>\n",
       "      <td>[merlin]</td>\n",
       "      <td>[EXECUTIVE] Merlin</td>\n",
       "      <td>20</td>\n",
       "      <td>[csaftoiu, jpfarias, merlin, morris]</td>\n",
       "    </tr>\n",
       "    <tr>\n",
       "      <th>22</th>\n",
       "      <td>[merlin]</td>\n",
       "      <td>[INHOUSE-TOOLS] NN-Webapp</td>\n",
       "      <td>755</td>\n",
       "      <td>[csaftoiu, jpfarias, merlin, morris]</td>\n",
       "    </tr>\n",
       "    <tr>\n",
       "      <th>23</th>\n",
       "      <td>[merlin]</td>\n",
       "      <td>[INHOUSE-TOOLS] Annotators app</td>\n",
       "      <td>760</td>\n",
       "      <td>[csaftoiu, jpfarias, morris]</td>\n",
       "    </tr>\n",
       "    <tr>\n",
       "      <th>24</th>\n",
       "      <td>[merlin]</td>\n",
       "      <td>[IOS-APPS] IOS streaming app</td>\n",
       "      <td>2375</td>\n",
       "      <td>[csaftoiu, jpfarias, morris]</td>\n",
       "    </tr>\n",
       "    <tr>\n",
       "      <th>25</th>\n",
       "      <td>[merlin]</td>\n",
       "      <td>[IOS-APPS] IOS PI app</td>\n",
       "      <td>2380</td>\n",
       "      <td>[csaftoiu, jpfarias, morris]</td>\n",
       "    </tr>\n",
       "    <tr>\n",
       "      <th>26</th>\n",
       "      <td>[merlin]</td>\n",
       "      <td>[HR] Candidate tests</td>\n",
       "      <td>2385</td>\n",
       "      <td>[csaftoiu, jpfarias, morris]</td>\n",
       "    </tr>\n",
       "    <tr>\n",
       "      <th>27</th>\n",
       "      <td>[merlin]</td>\n",
       "      <td>[CHATBOT] merlin</td>\n",
       "      <td>2390</td>\n",
       "      <td>[csaftoiu, jpfarias, morris]</td>\n",
       "    </tr>\n",
       "    <tr>\n",
       "      <th>28</th>\n",
       "      <td>[merlin]</td>\n",
       "      <td>[ID-VERIFY-PIPELINE] finger detector</td>\n",
       "      <td>735</td>\n",
       "      <td>[csaftoiu, jpfarias, morris]</td>\n",
       "    </tr>\n",
       "    <tr>\n",
       "      <th>29</th>\n",
       "      <td>[merlin]</td>\n",
       "      <td>[ID-VERIFY-PIPELINE] Background evaluator</td>\n",
       "      <td>2395</td>\n",
       "      <td>[csaftoiu, jpfarias, morris]</td>\n",
       "    </tr>\n",
       "    <tr>\n",
       "      <th>30</th>\n",
       "      <td>[merlin]</td>\n",
       "      <td>[ID-VERIFY-PIPELINE] Passport finder</td>\n",
       "      <td>2400</td>\n",
       "      <td>[csaftoiu, jpfarias, morris]</td>\n",
       "    </tr>\n",
       "    <tr>\n",
       "      <th>31</th>\n",
       "      <td>[merlin]</td>\n",
       "      <td>[CHATBOT] rodrigo</td>\n",
       "      <td>2405</td>\n",
       "      <td>[csaftoiu, jpfarias, morris]</td>\n",
       "    </tr>\n",
       "    <tr>\n",
       "      <th>32</th>\n",
       "      <td>[ariel, merlin]</td>\n",
       "      <td>[BG-CLUB-SITE] frontend</td>\n",
       "      <td>2435</td>\n",
       "      <td>[csaftoiu, jpfarias, morris]</td>\n",
       "    </tr>\n",
       "    <tr>\n",
       "      <th>33</th>\n",
       "      <td>[victor]</td>\n",
       "      <td>morris bg data gathering</td>\n",
       "      <td>130</td>\n",
       "      <td>[csaftoiu, morris]</td>\n",
       "    </tr>\n",
       "    <tr>\n",
       "      <th>34</th>\n",
       "      <td>[csaftoiu]</td>\n",
       "      <td>sportsparsers - pinnacle API</td>\n",
       "      <td>340</td>\n",
       "      <td>[Alex, csaftoiu, morris]</td>\n",
       "    </tr>\n",
       "    <tr>\n",
       "      <th>35</th>\n",
       "      <td>[merlin]</td>\n",
       "      <td>[INHOUSE-TOOLS] NN-Webapp 2</td>\n",
       "      <td>2520</td>\n",
       "      <td>[csaftoiu, jpfarias, merlin, morris]</td>\n",
       "    </tr>\n",
       "    <tr>\n",
       "      <th>36</th>\n",
       "      <td>[morris]</td>\n",
       "      <td>sportsparsers - tipster.de</td>\n",
       "      <td>295</td>\n",
       "      <td>[csaftoiu, merlin]</td>\n",
       "    </tr>\n",
       "    <tr>\n",
       "      <th>37</th>\n",
       "      <td>[morris]</td>\n",
       "      <td>sportsparsers - matchbook</td>\n",
       "      <td>395</td>\n",
       "      <td>[csaftoiu, merlin]</td>\n",
       "    </tr>\n",
       "    <tr>\n",
       "      <th>38</th>\n",
       "      <td>[csaftoiu, morris]</td>\n",
       "      <td>matchbook parser - mfilho</td>\n",
       "      <td>2575</td>\n",
       "      <td>[jpfarias, merlin]</td>\n",
       "    </tr>\n",
       "    <tr>\n",
       "      <th>39</th>\n",
       "      <td>[morris]</td>\n",
       "      <td>sportsparsers - gg.bet</td>\n",
       "      <td>310</td>\n",
       "      <td>[csaftoiu, merlin]</td>\n",
       "    </tr>\n",
       "    <tr>\n",
       "      <th>40</th>\n",
       "      <td>[morris]</td>\n",
       "      <td>sportsparsers - betway</td>\n",
       "      <td>300</td>\n",
       "      <td>[csaftoiu, merlin]</td>\n",
       "    </tr>\n",
       "    <tr>\n",
       "      <th>41</th>\n",
       "      <td>[morris]</td>\n",
       "      <td>Runningball Parser</td>\n",
       "      <td>155</td>\n",
       "      <td>[csaftoiu, merlin]</td>\n",
       "    </tr>\n",
       "    <tr>\n",
       "      <th>42</th>\n",
       "      <td>[morris]</td>\n",
       "      <td>sportsparsers - unikrn</td>\n",
       "      <td>145</td>\n",
       "      <td>[csaftoiu, merlin]</td>\n",
       "    </tr>\n",
       "    <tr>\n",
       "      <th>43</th>\n",
       "      <td>[morris]</td>\n",
       "      <td>sportsparsers - unibet</td>\n",
       "      <td>250</td>\n",
       "      <td>[csaftoiu, merlin]</td>\n",
       "    </tr>\n",
       "    <tr>\n",
       "      <th>44</th>\n",
       "      <td>[morris]</td>\n",
       "      <td>sportsparsers - esportscalendar</td>\n",
       "      <td>55</td>\n",
       "      <td>[csaftoiu, merlin]</td>\n",
       "    </tr>\n",
       "    <tr>\n",
       "      <th>45</th>\n",
       "      <td>[morris]</td>\n",
       "      <td>sportsparsers - 22bet</td>\n",
       "      <td>45</td>\n",
       "      <td>[csaftoiu, merlin]</td>\n",
       "    </tr>\n",
       "  </tbody>\n",
       "</table>\n",
       "</div>"
      ],
      "text/plain": [
       "              managers                                       name  priority  \\\n",
       "0   [csaftoiu, merlin]                       [CV] [Qt] OpenCV GUI       850   \n",
       "1             [merlin]                              [Web] pm-site       260   \n",
       "2             [luanda]                                Annotations        10   \n",
       "3           [csaftoiu]               [OCR] tesseract MRZ reading        560   \n",
       "4             [morris]                                 Deepgammon       150   \n",
       "5             [merlin]                      python training lucas      2160   \n",
       "6             [merlin]                    python training alysson      2180   \n",
       "7           [csaftoiu]       unity render different passport text      2230   \n",
       "8           [csaftoiu]      [template] unity render passport text      2235   \n",
       "9   [arturc, csaftoiu]      unity render diff passport text artur       815   \n",
       "10            [merlin]  unity render diff passport text - kennedy      2260   \n",
       "11            [merlin]      Unity Render Passport Text [Template]      2265   \n",
       "12        [victor-mgr]              mateus silva bg deep checkers      2295   \n",
       "13        [victor-mgr]                  Android Camera App rrocha      2300   \n",
       "14        [victor-mgr]                    bg deep learning aporto      2305   \n",
       "15        [victor-mgr]                 bg deep checkers rvalentim      2310   \n",
       "16        [victor-mgr]                       tourney site famador      2320   \n",
       "17            [merlin]                chess board finder eliaquim      2330   \n",
       "18        [victor-mgr]                         tourney site ariel      2340   \n",
       "19        [victor-mgr]                     tourney site tbarbalho      2345   \n",
       "20            [merlin]                [CHESS] Live Demo Executive       750   \n",
       "21            [merlin]                         [EXECUTIVE] Merlin        20   \n",
       "22            [merlin]                  [INHOUSE-TOOLS] NN-Webapp       755   \n",
       "23            [merlin]             [INHOUSE-TOOLS] Annotators app       760   \n",
       "24            [merlin]               [IOS-APPS] IOS streaming app      2375   \n",
       "25            [merlin]                      [IOS-APPS] IOS PI app      2380   \n",
       "26            [merlin]                       [HR] Candidate tests      2385   \n",
       "27            [merlin]                           [CHATBOT] merlin      2390   \n",
       "28            [merlin]       [ID-VERIFY-PIPELINE] finger detector       735   \n",
       "29            [merlin]  [ID-VERIFY-PIPELINE] Background evaluator      2395   \n",
       "30            [merlin]       [ID-VERIFY-PIPELINE] Passport finder      2400   \n",
       "31            [merlin]                          [CHATBOT] rodrigo      2405   \n",
       "32     [ariel, merlin]                    [BG-CLUB-SITE] frontend      2435   \n",
       "33            [victor]                   morris bg data gathering       130   \n",
       "34          [csaftoiu]               sportsparsers - pinnacle API       340   \n",
       "35            [merlin]                [INHOUSE-TOOLS] NN-Webapp 2      2520   \n",
       "36            [morris]                 sportsparsers - tipster.de       295   \n",
       "37            [morris]                  sportsparsers - matchbook       395   \n",
       "38  [csaftoiu, morris]                  matchbook parser - mfilho      2575   \n",
       "39            [morris]                     sportsparsers - gg.bet       310   \n",
       "40            [morris]                     sportsparsers - betway       300   \n",
       "41            [morris]                         Runningball Parser       155   \n",
       "42            [morris]                     sportsparsers - unikrn       145   \n",
       "43            [morris]                     sportsparsers - unibet       250   \n",
       "44            [morris]            sportsparsers - esportscalendar        55   \n",
       "45            [morris]                      sportsparsers - 22bet        45   \n",
       "\n",
       "                                watchers  \n",
       "0                       [merlin, morris]  \n",
       "1           [csaftoiu, jpfarias, morris]  \n",
       "2             [csaftoiu, merlin, victor]  \n",
       "3                       [arturc, merlin]  \n",
       "4                       [merlin, victor]  \n",
       "5                     [csaftoiu, morris]  \n",
       "6                     [csaftoiu, morris]  \n",
       "7                       [merlin, morris]  \n",
       "8                       [merlin, morris]  \n",
       "9                       [merlin, morris]  \n",
       "10            [csaftoiu, merlin, morris]  \n",
       "11            [csaftoiu, merlin, morris]  \n",
       "12                    [csaftoiu, merlin]  \n",
       "13                    [csaftoiu, merlin]  \n",
       "14                    [csaftoiu, merlin]  \n",
       "15                    [csaftoiu, merlin]  \n",
       "16                    [csaftoiu, merlin]  \n",
       "17                [csaftoiu, victor-mgr]  \n",
       "18                    [csaftoiu, merlin]  \n",
       "19                    [csaftoiu, merlin]  \n",
       "20                    [csaftoiu, morris]  \n",
       "21  [csaftoiu, jpfarias, merlin, morris]  \n",
       "22  [csaftoiu, jpfarias, merlin, morris]  \n",
       "23          [csaftoiu, jpfarias, morris]  \n",
       "24          [csaftoiu, jpfarias, morris]  \n",
       "25          [csaftoiu, jpfarias, morris]  \n",
       "26          [csaftoiu, jpfarias, morris]  \n",
       "27          [csaftoiu, jpfarias, morris]  \n",
       "28          [csaftoiu, jpfarias, morris]  \n",
       "29          [csaftoiu, jpfarias, morris]  \n",
       "30          [csaftoiu, jpfarias, morris]  \n",
       "31          [csaftoiu, jpfarias, morris]  \n",
       "32          [csaftoiu, jpfarias, morris]  \n",
       "33                    [csaftoiu, morris]  \n",
       "34              [Alex, csaftoiu, morris]  \n",
       "35  [csaftoiu, jpfarias, merlin, morris]  \n",
       "36                    [csaftoiu, merlin]  \n",
       "37                    [csaftoiu, merlin]  \n",
       "38                    [jpfarias, merlin]  \n",
       "39                    [csaftoiu, merlin]  \n",
       "40                    [csaftoiu, merlin]  \n",
       "41                    [csaftoiu, merlin]  \n",
       "42                    [csaftoiu, merlin]  \n",
       "43                    [csaftoiu, merlin]  \n",
       "44                    [csaftoiu, merlin]  \n",
       "45                    [csaftoiu, merlin]  "
      ]
     },
     "execution_count": 3,
     "metadata": {},
     "output_type": "execute_result"
    }
   ],
   "source": [
    "import json\n",
    "import pandas as pd\n",
    "\n",
    "with open(\"source_file_2.json\", 'r') as json_file:\n",
    "    dados = json.load(json_file)\n",
    "\n",
    "\n",
    "df = pd.DataFrame(dados)\n",
    "\n"
   ]
  },
  {
   "cell_type": "code",
   "execution_count": null,
   "metadata": {},
   "outputs": [],
   "source": []
  },
  {
   "cell_type": "code",
   "execution_count": null,
   "metadata": {},
   "outputs": [],
   "source": []
  },
  {
   "cell_type": "code",
   "execution_count": null,
   "metadata": {},
   "outputs": [],
   "source": []
  },
  {
   "cell_type": "code",
   "execution_count": null,
   "metadata": {},
   "outputs": [],
   "source": []
  },
  {
   "cell_type": "code",
   "execution_count": null,
   "metadata": {},
   "outputs": [],
   "source": []
  },
  {
   "cell_type": "code",
   "execution_count": null,
   "metadata": {},
   "outputs": [],
   "source": []
  },
  {
   "cell_type": "code",
   "execution_count": null,
   "metadata": {},
   "outputs": [],
   "source": []
  },
  {
   "cell_type": "code",
   "execution_count": null,
   "metadata": {},
   "outputs": [],
   "source": []
  },
  {
   "cell_type": "code",
   "execution_count": 1,
   "metadata": {},
   "outputs": [],
   "source": [
    "import pandas as pd\n",
    "import os\n",
    "import seaborn as sns\n",
    "import matplotlib.pyplot as plt\n",
    "import numpy as np\n",
    "\n",
    "%matplotlib inline"
   ]
  },
  {
   "cell_type": "markdown",
   "metadata": {},
   "source": [
    "get data from folder"
   ]
  },
  {
   "cell_type": "code",
   "execution_count": 2,
   "metadata": {},
   "outputs": [],
   "source": [
    "local = os.getcwd()\n",
    "os.chdir('./dados')"
   ]
  },
  {
   "cell_type": "markdown",
   "metadata": {},
   "source": [
    "store the names of the .txt data in a list"
   ]
  },
  {
   "cell_type": "code",
   "execution_count": 3,
   "metadata": {},
   "outputs": [],
   "source": [
    "TXT =[arquivos for arquivos in os.listdir(local+'/dados') if arquivos[len(arquivos)-4:] == '.txt']\n",
    "\n",
    "df = []\n",
    "\n",
    "for txt in TXT:\n",
    "    df.append(pd.read_csv(txt, sep= '\\t', skipinitialspace = True))"
   ]
  },
  {
   "cell_type": "markdown",
   "metadata": {},
   "source": [
    "check the data"
   ]
  },
  {
   "cell_type": "code",
   "execution_count": 4,
   "metadata": {
    "scrolled": true
   },
   "outputs": [
    {
     "data": {
      "text/html": [
       "<div>\n",
       "<style scoped>\n",
       "    .dataframe tbody tr th:only-of-type {\n",
       "        vertical-align: middle;\n",
       "    }\n",
       "\n",
       "    .dataframe tbody tr th {\n",
       "        vertical-align: top;\n",
       "    }\n",
       "\n",
       "    .dataframe thead th {\n",
       "        text-align: right;\n",
       "    }\n",
       "</style>\n",
       "<table border=\"1\" class=\"dataframe\">\n",
       "  <thead>\n",
       "    <tr style=\"text-align: right;\">\n",
       "      <th></th>\n",
       "      <th>f(GHz)</th>\n",
       "      <th>e'</th>\n",
       "      <th>e\"</th>\n",
       "      <th>u'</th>\n",
       "      <th>u\"</th>\n",
       "      <th>tan_e</th>\n",
       "      <th>tan_u</th>\n",
       "      <th>RL</th>\n",
       "      <th>RL_med</th>\n",
       "      <th>Zin</th>\n",
       "      <th>S11</th>\n",
       "      <th>S21</th>\n",
       "      <th>A</th>\n",
       "      <th>R</th>\n",
       "      <th>T</th>\n",
       "      <th>SEt</th>\n",
       "      <th>SEr</th>\n",
       "      <th>SEa</th>\n",
       "      <th>SEmr</th>\n",
       "    </tr>\n",
       "  </thead>\n",
       "  <tbody>\n",
       "    <tr>\n",
       "      <th>0</th>\n",
       "      <td>8.20</td>\n",
       "      <td>0.01</td>\n",
       "      <td>0.0</td>\n",
       "      <td>0.01</td>\n",
       "      <td>0.0</td>\n",
       "      <td>0.06</td>\n",
       "      <td>0.06</td>\n",
       "      <td>-0.01</td>\n",
       "      <td>-0.32</td>\n",
       "      <td>0.04</td>\n",
       "      <td>1.0</td>\n",
       "      <td>0.01</td>\n",
       "      <td>0.0</td>\n",
       "      <td>1.0</td>\n",
       "      <td>0.0</td>\n",
       "      <td>43.64</td>\n",
       "      <td>27.96</td>\n",
       "      <td>15.90</td>\n",
       "      <td>-0.23</td>\n",
       "    </tr>\n",
       "    <tr>\n",
       "      <th>1</th>\n",
       "      <td>8.21</td>\n",
       "      <td>0.01</td>\n",
       "      <td>0.0</td>\n",
       "      <td>0.01</td>\n",
       "      <td>0.0</td>\n",
       "      <td>0.06</td>\n",
       "      <td>0.06</td>\n",
       "      <td>-0.01</td>\n",
       "      <td>-0.32</td>\n",
       "      <td>0.04</td>\n",
       "      <td>1.0</td>\n",
       "      <td>0.01</td>\n",
       "      <td>0.0</td>\n",
       "      <td>1.0</td>\n",
       "      <td>0.0</td>\n",
       "      <td>43.56</td>\n",
       "      <td>27.90</td>\n",
       "      <td>15.89</td>\n",
       "      <td>-0.23</td>\n",
       "    </tr>\n",
       "  </tbody>\n",
       "</table>\n",
       "</div>"
      ],
      "text/plain": [
       "   f(GHz)    e'   e\"    u'   u\"  tan_e  tan_u    RL  RL_med   Zin  S11   S21  \\\n",
       "0    8.20  0.01  0.0  0.01  0.0   0.06   0.06 -0.01   -0.32  0.04  1.0  0.01   \n",
       "1    8.21  0.01  0.0  0.01  0.0   0.06   0.06 -0.01   -0.32  0.04  1.0  0.01   \n",
       "\n",
       "     A    R    T    SEt    SEr    SEa  SEmr  \n",
       "0  0.0  1.0  0.0  43.64  27.96  15.90 -0.23  \n",
       "1  0.0  1.0  0.0  43.56  27.90  15.89 -0.23  "
      ]
     },
     "execution_count": 4,
     "metadata": {},
     "output_type": "execute_result"
    }
   ],
   "source": [
    "# data 1\n",
    "df[0].head(2)"
   ]
  },
  {
   "cell_type": "code",
   "execution_count": 5,
   "metadata": {
    "scrolled": false
   },
   "outputs": [
    {
     "data": {
      "text/html": [
       "<div>\n",
       "<style scoped>\n",
       "    .dataframe tbody tr th:only-of-type {\n",
       "        vertical-align: middle;\n",
       "    }\n",
       "\n",
       "    .dataframe tbody tr th {\n",
       "        vertical-align: top;\n",
       "    }\n",
       "\n",
       "    .dataframe thead th {\n",
       "        text-align: right;\n",
       "    }\n",
       "</style>\n",
       "<table border=\"1\" class=\"dataframe\">\n",
       "  <thead>\n",
       "    <tr style=\"text-align: right;\">\n",
       "      <th></th>\n",
       "      <th>min</th>\n",
       "      <th>max</th>\n",
       "    </tr>\n",
       "  </thead>\n",
       "  <tbody>\n",
       "    <tr>\n",
       "      <th>f(GHz)</th>\n",
       "      <td>8.20</td>\n",
       "      <td>12.39</td>\n",
       "    </tr>\n",
       "    <tr>\n",
       "      <th>e'</th>\n",
       "      <td>-0.05</td>\n",
       "      <td>0.05</td>\n",
       "    </tr>\n",
       "    <tr>\n",
       "      <th>e\"</th>\n",
       "      <td>0.00</td>\n",
       "      <td>0.11</td>\n",
       "    </tr>\n",
       "    <tr>\n",
       "      <th>u'</th>\n",
       "      <td>-0.05</td>\n",
       "      <td>0.05</td>\n",
       "    </tr>\n",
       "    <tr>\n",
       "      <th>u\"</th>\n",
       "      <td>0.00</td>\n",
       "      <td>0.11</td>\n",
       "    </tr>\n",
       "    <tr>\n",
       "      <th>tan_e</th>\n",
       "      <td>-13.97</td>\n",
       "      <td>83.53</td>\n",
       "    </tr>\n",
       "    <tr>\n",
       "      <th>tan_u</th>\n",
       "      <td>-13.97</td>\n",
       "      <td>83.53</td>\n",
       "    </tr>\n",
       "    <tr>\n",
       "      <th>RL</th>\n",
       "      <td>-3.75</td>\n",
       "      <td>-0.01</td>\n",
       "    </tr>\n",
       "    <tr>\n",
       "      <th>RL_med</th>\n",
       "      <td>-0.32</td>\n",
       "      <td>-0.32</td>\n",
       "    </tr>\n",
       "    <tr>\n",
       "      <th>Zin</th>\n",
       "      <td>0.03</td>\n",
       "      <td>10.63</td>\n",
       "    </tr>\n",
       "    <tr>\n",
       "      <th>S11</th>\n",
       "      <td>0.77</td>\n",
       "      <td>1.00</td>\n",
       "    </tr>\n",
       "    <tr>\n",
       "      <th>S21</th>\n",
       "      <td>0.01</td>\n",
       "      <td>0.10</td>\n",
       "    </tr>\n",
       "    <tr>\n",
       "      <th>A</th>\n",
       "      <td>0.00</td>\n",
       "      <td>0.40</td>\n",
       "    </tr>\n",
       "    <tr>\n",
       "      <th>R</th>\n",
       "      <td>0.59</td>\n",
       "      <td>1.00</td>\n",
       "    </tr>\n",
       "    <tr>\n",
       "      <th>T</th>\n",
       "      <td>0.00</td>\n",
       "      <td>0.01</td>\n",
       "    </tr>\n",
       "    <tr>\n",
       "      <th>SEt</th>\n",
       "      <td>19.68</td>\n",
       "      <td>43.64</td>\n",
       "    </tr>\n",
       "    <tr>\n",
       "      <th>SEr</th>\n",
       "      <td>3.83</td>\n",
       "      <td>27.96</td>\n",
       "    </tr>\n",
       "    <tr>\n",
       "      <th>SEa</th>\n",
       "      <td>14.44</td>\n",
       "      <td>15.98</td>\n",
       "    </tr>\n",
       "    <tr>\n",
       "      <th>SEmr</th>\n",
       "      <td>-0.32</td>\n",
       "      <td>-0.13</td>\n",
       "    </tr>\n",
       "  </tbody>\n",
       "</table>\n",
       "</div>"
      ],
      "text/plain": [
       "          min    max\n",
       "f(GHz)   8.20  12.39\n",
       "e'      -0.05   0.05\n",
       "e\"       0.00   0.11\n",
       "u'      -0.05   0.05\n",
       "u\"       0.00   0.11\n",
       "tan_e  -13.97  83.53\n",
       "tan_u  -13.97  83.53\n",
       "RL      -3.75  -0.01\n",
       "RL_med  -0.32  -0.32\n",
       "Zin      0.03  10.63\n",
       "S11      0.77   1.00\n",
       "S21      0.01   0.10\n",
       "A        0.00   0.40\n",
       "R        0.59   1.00\n",
       "T        0.00   0.01\n",
       "SEt     19.68  43.64\n",
       "SEr      3.83  27.96\n",
       "SEa     14.44  15.98\n",
       "SEmr    -0.32  -0.13"
      ]
     },
     "execution_count": 5,
     "metadata": {},
     "output_type": "execute_result"
    }
   ],
   "source": [
    "view = {\n",
    "    'min': df[0].min(),# view the minimum values\n",
    "    'max': df[0].max(),# view the maximum values\n",
    "}\n",
    "\n",
    "view = pd.DataFrame(view)\n",
    "view"
   ]
  },
  {
   "cell_type": "markdown",
   "metadata": {},
   "source": [
    "Negative values were observed"
   ]
  },
  {
   "cell_type": "markdown",
   "metadata": {},
   "source": [
    "data overview"
   ]
  },
  {
   "cell_type": "code",
   "execution_count": 6,
   "metadata": {},
   "outputs": [
    {
     "data": {
      "text/plain": [
       "<seaborn.axisgrid.PairGrid at 0x7f9804521a90>"
      ]
     },
     "execution_count": 6,
     "metadata": {},
     "output_type": "execute_result"
    },
    {
     "data": {
      "image/png": "[encoded data removed]",
      "text/plain": [
       "<Figure size 720x720 with 20 Axes>"
      ]
     },
     "metadata": {
      "needs_background": "light"
     },
     "output_type": "display_data"
    }
   ],
   "source": [
    "sns.pairplot(\n",
    "    data = df[0][[\"e'\",\"u'\",'e\"','u\"']],\n",
    ")"
   ]
  },
  {
   "cell_type": "code",
   "execution_count": 7,
   "metadata": {},
   "outputs": [
    {
     "data": {
      "text/plain": [
       "<seaborn.axisgrid.PairGrid at 0x7f9804580550>"
      ]
     },
     "execution_count": 7,
     "metadata": {},
     "output_type": "execute_result"
    },
    {
     "data": {
      "image/png": "[encoded data removed]",
      "text/plain": [
       "<Figure size 540x540 with 12 Axes>"
      ]
     },
     "metadata": {
      "needs_background": "light"
     },
     "output_type": "display_data"
    }
   ],
   "source": [
    "g = sns.PairGrid(df[0][[\"RL\",'e\"',\"SEt\"]])\n",
    "\n",
    "# Top Plot Maps\n",
    "g.map_upper(plt.scatter)\n",
    "\n",
    "# Plot Maps on Diagonals\n",
    "g.map_diag(sns.distplot)\n",
    "\n",
    "# Bottom Plot Maps\n",
    "g.map_lower(sns.kdeplot)"
   ]
  },
  {
   "cell_type": "markdown",
   "metadata": {},
   "source": [
    " Kernel density estimate (kde) and histogram with bin size determined automatically "
   ]
  },
  {
   "cell_type": "code",
   "execution_count": 8,
   "metadata": {},
   "outputs": [
    {
     "data": {
      "text/plain": [
       "<matplotlib.axes._subplots.AxesSubplot at 0x7f98015c9780>"
      ]
     },
     "execution_count": 8,
     "metadata": {},
     "output_type": "execute_result"
    },
    {
     "data": {
      "image/png": "[encoded data removed]",
      "text/plain": [
       "<Figure size 432x288 with 1 Axes>"
      ]
     },
     "metadata": {},
     "output_type": "display_data"
    }
   ],
   "source": [
    "sns.set_style(\n",
    "    'darkgrid'\n",
    ")\n",
    "\n",
    "sns.distplot(\n",
    "    a = df[3][\"e'\"],\n",
    "    color = 'red',\n",
    "    #bins = 30,\n",
    ")"
   ]
  },
  {
   "cell_type": "code",
   "execution_count": 9,
   "metadata": {
    "scrolled": false
   },
   "outputs": [
    {
     "data": {
      "text/plain": [
       "<seaborn.axisgrid.JointGrid at 0x7f9801587748>"
      ]
     },
     "execution_count": 9,
     "metadata": {},
     "output_type": "execute_result"
    },
    {
     "data": {
      "image/png": "[encoded data removed]",
      "text/plain": [
       "<Figure size 432x432 with 3 Axes>"
      ]
     },
     "metadata": {},
     "output_type": "display_data"
    }
   ],
   "source": [
    "sns.jointplot(\n",
    "    x=df[0][\"SEa\"],\n",
    "    y=df[0]['RL'],\n",
    "    kind = 'kde',\n",
    "    #ylim= [-1,1],\n",
    "    #xlim =[8.2,12.4]\n",
    ")"
   ]
  },
  {
   "cell_type": "code",
   "execution_count": 10,
   "metadata": {},
   "outputs": [
    {
     "data": {
      "text/plain": [
       "<seaborn.axisgrid.JointGrid at 0x7f9801444048>"
      ]
     },
     "execution_count": 10,
     "metadata": {},
     "output_type": "execute_result"
    },
    {
     "data": {
      "image/png": "[encoded data removed]",
      "text/plain": [
       "<Figure size 432x432 with 3 Axes>"
      ]
     },
     "metadata": {},
     "output_type": "display_data"
    },
    {
     "data": {
      "image/png": "[encoded data removed]",
      "text/plain": [
       "<Figure size 432x432 with 3 Axes>"
      ]
     },
     "metadata": {},
     "output_type": "display_data"
    }
   ],
   "source": [
    "sns.jointplot(\n",
    "    x=df[0][\"f(GHz)\"],\n",
    "    y=df[0]['RL'],\n",
    "    kind = 'scatter',\n",
    "    #ylim= [-0.1,0.1],\n",
    "    #xlim =[8.2,12.4]\n",
    ")\n",
    "\n",
    "sns.jointplot(\n",
    "    x=df[0][\"f(GHz)\"],\n",
    "    y=df[0]['SEa'],\n",
    "    kind = 'scatter',\n",
    "    #ylim= [-0.1,0.1],\n",
    "    #xlim =[8.2,12.4]\n",
    ")\n"
   ]
  },
  {
   "cell_type": "code",
   "execution_count": 11,
   "metadata": {
    "scrolled": false
   },
   "outputs": [
    {
     "data": {
      "text/plain": [
       "<matplotlib.axes._subplots.AxesSubplot at 0x7f98015c9630>"
      ]
     },
     "execution_count": 11,
     "metadata": {},
     "output_type": "execute_result"
    },
    {
     "data": {
      "image/png": "[encoded data removed]",
      "text/plain": [
       "<Figure size 432x288 with 1 Axes>"
      ]
     },
     "metadata": {},
     "output_type": "display_data"
    }
   ],
   "source": [
    "sns.set_style(\n",
    "    'ticks'\n",
    ")\n",
    "sns.kdeplot(\n",
    "    data = df[0]['SEt'],\n",
    "    data2 = df[0]['RL'],\n",
    "    kernel = 'gau',\n",
    "    bw = 'scott'\n",
    ")\n"
   ]
  },
  {
   "cell_type": "markdown",
   "metadata": {},
   "source": [
    "# Continuar aqui...\n",
    "\n",
    "-> Fazer alguns exemplos de aprendizagem supervisionada (linearRegression and Treeclassificator) e também não supervisionada (Agrupamento - Clustering)\n",
    "\n",
    "-> Fazer previsões dos dados\n",
    "\n",
    "-> cufflinks"
   ]
  },
  {
   "cell_type": "code",
   "execution_count": 12,
   "metadata": {
    "scrolled": false
   },
   "outputs": [],
   "source": [
    "from sklearn.cluster import KMeans\n",
    "import pandas as pd\n",
    "import seaborn as sns\n",
    "import matplotlib.pyplot as plt"
   ]
  },
  {
   "cell_type": "code",
   "execution_count": 13,
   "metadata": {},
   "outputs": [],
   "source": [
    "dados = sns.load_dataset('iris')"
   ]
  },
  {
   "cell_type": "code",
   "execution_count": 14,
   "metadata": {},
   "outputs": [
    {
     "data": {
      "text/html": [
       "<div>\n",
       "<style scoped>\n",
       "    .dataframe tbody tr th:only-of-type {\n",
       "        vertical-align: middle;\n",
       "    }\n",
       "\n",
       "    .dataframe tbody tr th {\n",
       "        vertical-align: top;\n",
       "    }\n",
       "\n",
       "    .dataframe thead th {\n",
       "        text-align: right;\n",
       "    }\n",
       "</style>\n",
       "<table border=\"1\" class=\"dataframe\">\n",
       "  <thead>\n",
       "    <tr style=\"text-align: right;\">\n",
       "      <th></th>\n",
       "      <th>sepal_length</th>\n",
       "      <th>sepal_width</th>\n",
       "      <th>petal_length</th>\n",
       "      <th>petal_width</th>\n",
       "      <th>species</th>\n",
       "    </tr>\n",
       "  </thead>\n",
       "  <tbody>\n",
       "    <tr>\n",
       "      <th>0</th>\n",
       "      <td>5.1</td>\n",
       "      <td>3.5</td>\n",
       "      <td>1.4</td>\n",
       "      <td>0.2</td>\n",
       "      <td>setosa</td>\n",
       "    </tr>\n",
       "    <tr>\n",
       "      <th>1</th>\n",
       "      <td>4.9</td>\n",
       "      <td>3.0</td>\n",
       "      <td>1.4</td>\n",
       "      <td>0.2</td>\n",
       "      <td>setosa</td>\n",
       "    </tr>\n",
       "    <tr>\n",
       "      <th>2</th>\n",
       "      <td>4.7</td>\n",
       "      <td>3.2</td>\n",
       "      <td>1.3</td>\n",
       "      <td>0.2</td>\n",
       "      <td>setosa</td>\n",
       "    </tr>\n",
       "  </tbody>\n",
       "</table>\n",
       "</div>"
      ],
      "text/plain": [
       "   sepal_length  sepal_width  petal_length  petal_width species\n",
       "0           5.1          3.5           1.4          0.2  setosa\n",
       "1           4.9          3.0           1.4          0.2  setosa\n",
       "2           4.7          3.2           1.3          0.2  setosa"
      ]
     },
     "execution_count": 14,
     "metadata": {},
     "output_type": "execute_result"
    }
   ],
   "source": [
    "df = pd.DataFrame(dados)\n",
    "df.head(3)"
   ]
  },
  {
   "cell_type": "code",
   "execution_count": 15,
   "metadata": {
    "scrolled": false
   },
   "outputs": [
    {
     "data": {
      "text/plain": [
       "<matplotlib.axes._subplots.AxesSubplot at 0x7f97fbcca940>"
      ]
     },
     "execution_count": 15,
     "metadata": {},
     "output_type": "execute_result"
    },
    {
     "data": {
      "image/png": "[encoded data removed]",
      "text/plain": [
       "<Figure size 432x288 with 1 Axes>"
      ]
     },
     "metadata": {},
     "output_type": "display_data"
    }
   ],
   "source": [
    "df.plot(x ='sepal_length', y='sepal_width',kind = 'scatter')"
   ]
  },
  {
   "cell_type": "code",
   "execution_count": 24,
   "metadata": {},
   "outputs": [],
   "source": [
    "km = KMeans(n_clusters=8)"
   ]
  },
  {
   "cell_type": "code",
   "execution_count": 25,
   "metadata": {},
   "outputs": [],
   "source": [
    "y_predicted = km.fit_predict(df.drop('species',axis=1))"
   ]
  },
  {
   "cell_type": "code",
   "execution_count": 26,
   "metadata": {
    "scrolled": true
   },
   "outputs": [
    {
     "data": {
      "text/plain": [
       "array([5, 0, 0, 0, 5, 5, 0, 5, 0, 0, 5, 0, 0, 0, 5, 5, 5, 5, 5, 5, 5, 5,\n",
       "       0, 5, 0, 0, 5, 5, 5, 0, 0, 5, 5, 5, 0, 0, 5, 5, 0, 5, 5, 0, 0, 5,\n",
       "       5, 0, 5, 0, 5, 0, 3, 3, 2, 1, 3, 1, 3, 6, 3, 1, 6, 1, 1, 3, 1, 3,\n",
       "       1, 1, 3, 1, 4, 1, 4, 3, 3, 3, 3, 2, 3, 6, 6, 6, 1, 4, 1, 3, 3, 3,\n",
       "       1, 1, 1, 3, 1, 6, 1, 1, 1, 3, 6, 1, 2, 4, 2, 2, 2, 7, 1, 7, 2, 7,\n",
       "       2, 2, 2, 4, 4, 2, 2, 7, 7, 4, 2, 4, 7, 4, 2, 7, 4, 4, 2, 2, 7, 7,\n",
       "       2, 4, 2, 7, 2, 2, 4, 2, 2, 2, 4, 2, 2, 2, 4, 2, 2, 4], dtype=int32)"
      ]
     },
     "execution_count": 26,
     "metadata": {},
     "output_type": "execute_result"
    }
   ],
   "source": [
    "y_predicted"
   ]
  },
  {
   "cell_type": "code",
   "execution_count": 27,
   "metadata": {},
   "outputs": [],
   "source": [
    "df['new'] =y_predicted"
   ]
  },
  {
   "cell_type": "code",
   "execution_count": 28,
   "metadata": {
    "scrolled": true
   },
   "outputs": [
    {
     "data": {
      "text/plain": [
       "<matplotlib.axes._subplots.AxesSubplot at 0x7f97fb0b3828>"
      ]
     },
     "execution_count": 28,
     "metadata": {},
     "output_type": "execute_result"
    },
    {
     "data": {
      "image/png": "[encoded data removed]",
      "text/plain": [
       "<Figure size 432x288 with 1 Axes>"
      ]
     },
     "metadata": {},
     "output_type": "display_data"
    }
   ],
   "source": [
    "df.plot(x ='sepal_length', y='new',kind = 'scatter')"
   ]
  },
  {
   "cell_type": "code",
   "execution_count": null,
   "metadata": {},
   "outputs": [],
   "source": []
  },
  {
   "cell_type": "code",
   "execution_count": null,
   "metadata": {},
   "outputs": [],
   "source": []
  },
  {
   "cell_type": "code",
   "execution_count": null,
   "metadata": {},
   "outputs": [],
   "source": []
  },
  {
   "cell_type": "code",
   "execution_count": null,
   "metadata": {},
   "outputs": [],
   "source": []
  },
  {
   "cell_type": "code",
   "execution_count": null,
   "metadata": {},
   "outputs": [],
   "source": []
  },
  {
   "cell_type": "code",
   "execution_count": 21,
   "metadata": {},
   "outputs": [
    {
     "ename": "KeyError",
     "evalue": "0",
     "output_type": "error",
     "traceback": [
      "\u001b[0;31m----------------------------------------------------------------------\u001b[0m",
      "\u001b[0;31mKeyError\u001b[0m                             Traceback (most recent call last)",
      "\u001b[0;32m/usr/local/lib/python3.6/dist-packages/pandas/core/indexes/base.py\u001b[0m in \u001b[0;36mget_loc\u001b[0;34m(self, key, method, tolerance)\u001b[0m\n\u001b[1;32m   2655\u001b[0m             \u001b[0;32mtry\u001b[0m\u001b[0;34m:\u001b[0m\u001b[0;34m\u001b[0m\u001b[0;34m\u001b[0m\u001b[0m\n\u001b[0;32m-> 2656\u001b[0;31m                 \u001b[0;32mreturn\u001b[0m \u001b[0mself\u001b[0m\u001b[0;34m.\u001b[0m\u001b[0m_engine\u001b[0m\u001b[0;34m.\u001b[0m\u001b[0mget_loc\u001b[0m\u001b[0;34m(\u001b[0m\u001b[0mkey\u001b[0m\u001b[0;34m)\u001b[0m\u001b[0;34m\u001b[0m\u001b[0;34m\u001b[0m\u001b[0m\n\u001b[0m\u001b[1;32m   2657\u001b[0m             \u001b[0;32mexcept\u001b[0m \u001b[0mKeyError\u001b[0m\u001b[0;34m:\u001b[0m\u001b[0;34m\u001b[0m\u001b[0;34m\u001b[0m\u001b[0m\n",
      "\u001b[0;32mpandas/_libs/index.pyx\u001b[0m in \u001b[0;36mpandas._libs.index.IndexEngine.get_loc\u001b[0;34m()\u001b[0m\n",
      "\u001b[0;32mpandas/_libs/index.pyx\u001b[0m in \u001b[0;36mpandas._libs.index.IndexEngine.get_loc\u001b[0;34m()\u001b[0m\n",
      "\u001b[0;32mpandas/_libs/hashtable_class_helper.pxi\u001b[0m in \u001b[0;36mpandas._libs.hashtable.PyObjectHashTable.get_item\u001b[0;34m()\u001b[0m\n",
      "\u001b[0;32mpandas/_libs/hashtable_class_helper.pxi\u001b[0m in \u001b[0;36mpandas._libs.hashtable.PyObjectHashTable.get_item\u001b[0;34m()\u001b[0m\n",
      "\u001b[0;31mKeyError\u001b[0m: 0",
      "\nDuring handling of the above exception, another exception occurred:\n",
      "\u001b[0;31mKeyError\u001b[0m                             Traceback (most recent call last)",
      "\u001b[0;32m<ipython-input-21-f9587a8edf5e>\u001b[0m in \u001b[0;36m<module>\u001b[0;34m\u001b[0m\n\u001b[0;32m----> 1\u001b[0;31m \u001b[0mdf\u001b[0m\u001b[0;34m[\u001b[0m\u001b[0;36m0\u001b[0m\u001b[0;34m]\u001b[0m\u001b[0;34m[\u001b[0m\u001b[0;34m[\u001b[0m\u001b[0;34m'SEt'\u001b[0m\u001b[0;34m,\u001b[0m\u001b[0;34m'RL'\u001b[0m\u001b[0;34m]\u001b[0m\u001b[0;34m]\u001b[0m\u001b[0;34m.\u001b[0m\u001b[0mhead\u001b[0m\u001b[0;34m(\u001b[0m\u001b[0;34m)\u001b[0m\u001b[0;34m\u001b[0m\u001b[0;34m\u001b[0m\u001b[0m\n\u001b[0m",
      "\u001b[0;32m/usr/local/lib/python3.6/dist-packages/pandas/core/frame.py\u001b[0m in \u001b[0;36m__getitem__\u001b[0;34m(self, key)\u001b[0m\n\u001b[1;32m   2925\u001b[0m             \u001b[0;32mif\u001b[0m \u001b[0mself\u001b[0m\u001b[0;34m.\u001b[0m\u001b[0mcolumns\u001b[0m\u001b[0;34m.\u001b[0m\u001b[0mnlevels\u001b[0m \u001b[0;34m>\u001b[0m \u001b[0;36m1\u001b[0m\u001b[0;34m:\u001b[0m\u001b[0;34m\u001b[0m\u001b[0;34m\u001b[0m\u001b[0m\n\u001b[1;32m   2926\u001b[0m                 \u001b[0;32mreturn\u001b[0m \u001b[0mself\u001b[0m\u001b[0;34m.\u001b[0m\u001b[0m_getitem_multilevel\u001b[0m\u001b[0;34m(\u001b[0m\u001b[0mkey\u001b[0m\u001b[0;34m)\u001b[0m\u001b[0;34m\u001b[0m\u001b[0;34m\u001b[0m\u001b[0m\n\u001b[0;32m-> 2927\u001b[0;31m             \u001b[0mindexer\u001b[0m \u001b[0;34m=\u001b[0m \u001b[0mself\u001b[0m\u001b[0;34m.\u001b[0m\u001b[0mcolumns\u001b[0m\u001b[0;34m.\u001b[0m\u001b[0mget_loc\u001b[0m\u001b[0;34m(\u001b[0m\u001b[0mkey\u001b[0m\u001b[0;34m)\u001b[0m\u001b[0;34m\u001b[0m\u001b[0;34m\u001b[0m\u001b[0m\n\u001b[0m\u001b[1;32m   2928\u001b[0m             \u001b[0;32mif\u001b[0m \u001b[0mis_integer\u001b[0m\u001b[0;34m(\u001b[0m\u001b[0mindexer\u001b[0m\u001b[0;34m)\u001b[0m\u001b[0;34m:\u001b[0m\u001b[0;34m\u001b[0m\u001b[0;34m\u001b[0m\u001b[0m\n\u001b[1;32m   2929\u001b[0m                 \u001b[0mindexer\u001b[0m \u001b[0;34m=\u001b[0m \u001b[0;34m[\u001b[0m\u001b[0mindexer\u001b[0m\u001b[0;34m]\u001b[0m\u001b[0;34m\u001b[0m\u001b[0;34m\u001b[0m\u001b[0m\n",
      "\u001b[0;32m/usr/local/lib/python3.6/dist-packages/pandas/core/indexes/base.py\u001b[0m in \u001b[0;36mget_loc\u001b[0;34m(self, key, method, tolerance)\u001b[0m\n\u001b[1;32m   2656\u001b[0m                 \u001b[0;32mreturn\u001b[0m \u001b[0mself\u001b[0m\u001b[0;34m.\u001b[0m\u001b[0m_engine\u001b[0m\u001b[0;34m.\u001b[0m\u001b[0mget_loc\u001b[0m\u001b[0;34m(\u001b[0m\u001b[0mkey\u001b[0m\u001b[0;34m)\u001b[0m\u001b[0;34m\u001b[0m\u001b[0;34m\u001b[0m\u001b[0m\n\u001b[1;32m   2657\u001b[0m             \u001b[0;32mexcept\u001b[0m \u001b[0mKeyError\u001b[0m\u001b[0;34m:\u001b[0m\u001b[0;34m\u001b[0m\u001b[0;34m\u001b[0m\u001b[0m\n\u001b[0;32m-> 2658\u001b[0;31m                 \u001b[0;32mreturn\u001b[0m \u001b[0mself\u001b[0m\u001b[0;34m.\u001b[0m\u001b[0m_engine\u001b[0m\u001b[0;34m.\u001b[0m\u001b[0mget_loc\u001b[0m\u001b[0;34m(\u001b[0m\u001b[0mself\u001b[0m\u001b[0;34m.\u001b[0m\u001b[0m_maybe_cast_indexer\u001b[0m\u001b[0;34m(\u001b[0m\u001b[0mkey\u001b[0m\u001b[0;34m)\u001b[0m\u001b[0;34m)\u001b[0m\u001b[0;34m\u001b[0m\u001b[0;34m\u001b[0m\u001b[0m\n\u001b[0m\u001b[1;32m   2659\u001b[0m         \u001b[0mindexer\u001b[0m \u001b[0;34m=\u001b[0m \u001b[0mself\u001b[0m\u001b[0;34m.\u001b[0m\u001b[0mget_indexer\u001b[0m\u001b[0;34m(\u001b[0m\u001b[0;34m[\u001b[0m\u001b[0mkey\u001b[0m\u001b[0;34m]\u001b[0m\u001b[0;34m,\u001b[0m \u001b[0mmethod\u001b[0m\u001b[0;34m=\u001b[0m\u001b[0mmethod\u001b[0m\u001b[0;34m,\u001b[0m \u001b[0mtolerance\u001b[0m\u001b[0;34m=\u001b[0m\u001b[0mtolerance\u001b[0m\u001b[0;34m)\u001b[0m\u001b[0;34m\u001b[0m\u001b[0;34m\u001b[0m\u001b[0m\n\u001b[1;32m   2660\u001b[0m         \u001b[0;32mif\u001b[0m \u001b[0mindexer\u001b[0m\u001b[0;34m.\u001b[0m\u001b[0mndim\u001b[0m \u001b[0;34m>\u001b[0m \u001b[0;36m1\u001b[0m \u001b[0;32mor\u001b[0m \u001b[0mindexer\u001b[0m\u001b[0;34m.\u001b[0m\u001b[0msize\u001b[0m \u001b[0;34m>\u001b[0m \u001b[0;36m1\u001b[0m\u001b[0;34m:\u001b[0m\u001b[0;34m\u001b[0m\u001b[0;34m\u001b[0m\u001b[0m\n",
      "\u001b[0;32mpandas/_libs/index.pyx\u001b[0m in \u001b[0;36mpandas._libs.index.IndexEngine.get_loc\u001b[0;34m()\u001b[0m\n",
      "\u001b[0;32mpandas/_libs/index.pyx\u001b[0m in \u001b[0;36mpandas._libs.index.IndexEngine.get_loc\u001b[0;34m()\u001b[0m\n",
      "\u001b[0;32mpandas/_libs/hashtable_class_helper.pxi\u001b[0m in \u001b[0;36mpandas._libs.hashtable.PyObjectHashTable.get_item\u001b[0;34m()\u001b[0m\n",
      "\u001b[0;32mpandas/_libs/hashtable_class_helper.pxi\u001b[0m in \u001b[0;36mpandas._libs.hashtable.PyObjectHashTable.get_item\u001b[0;34m()\u001b[0m\n",
      "\u001b[0;31mKeyError\u001b[0m: 0"
     ]
    }
   ],
   "source": [
    "df[0][['SEt','RL']].head()"
   ]
  },
  {
   "cell_type": "code",
   "execution_count": null,
   "metadata": {},
   "outputs": [],
   "source": [
    "new = df[0][[\"e'\",'e\"','RL']]\n",
    "new2 = df[1][[\"e'\",'e\"','RL']]\n",
    "new2.head()\n",
    "new.head()"
   ]
  },
  {
   "cell_type": "code",
   "execution_count": null,
   "metadata": {},
   "outputs": [],
   "source": [
    "g = sns.PairGrid(new)\n",
    "\n",
    "#Plotar Mapas na Diagonais\n",
    "g.map_diag(sns.distplot)\n",
    "\n",
    "#Plotar Mapas superior\n",
    "g.map_upper(plt.scatter)\n",
    "\n",
    "#Plotar Mapas Inferiores\n",
    "g.map_lower(sns.kdeplot)"
   ]
  },
  {
   "cell_type": "code",
   "execution_count": null,
   "metadata": {},
   "outputs": [],
   "source": [
    "sns.pairplot(\n",
    "    data = new,\n",
    ")"
   ]
  },
  {
   "cell_type": "code",
   "execution_count": null,
   "metadata": {},
   "outputs": [],
   "source": [
    "sns.set_color_codes(\n",
    "    palette='dark'\n",
    ")\n",
    "\n",
    "sns.pairplot(\n",
    "    data = new2,\n",
    ")\n"
   ]
  },
  {
   "cell_type": "code",
   "execution_count": null,
   "metadata": {},
   "outputs": [],
   "source": [
    "sns.jointplot(\"SEt\", \"RL\", data=df[1], kind=\"scatter\", color=\"#FF1493\")"
   ]
  },
  {
   "cell_type": "markdown",
   "metadata": {},
   "source": [
    "### Conclusions:\n",
    "\n",
    "Rapidamente deu para observar que os métodos de 2 portas e 1 porta não tem nenhuma relação, tratam-se de duas medidas distindas. Portanto, não há como relacionar a atenuação máxima de um com a do outro. Apesar disso,através da extração de dados por ambos (S11 e S21) os métodos é possível, através do modelo teórico de linha de transmissão, um ao outro."
   ]
  }
 ],
 "metadata": {
  "kernelspec": {
   "display_name": "Python 3",
   "language": "python",
   "name": "python3"
  },
  "language_info": {
   "codemirror_mode": {
    "name": "ipython",
    "version": 3
   },
   "file_extension": ".py",
   "mimetype": "text/x-python",
   "name": "python",
   "nbconvert_exporter": "python",
   "pygments_lexer": "ipython3",
   "version": "3.6.8"
  }
 },
 "nbformat": 4,
 "nbformat_minor": 2
}
