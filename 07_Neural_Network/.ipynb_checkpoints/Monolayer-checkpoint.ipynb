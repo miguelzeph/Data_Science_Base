{
 "cells": [
  {
   "cell_type": "markdown",
   "metadata": {},
   "source": [
    "### Neural Network Monolayer\n",
    "<img src = \"img/monolayer.png\" style=\"max-width:40%; width: 40%;\">"
   ]
  },
  {
   "cell_type": "code",
   "execution_count": 1,
   "metadata": {},
   "outputs": [],
   "source": [
    "import pandas as pd"
   ]
  },
  {
   "cell_type": "code",
   "execution_count": 2,
   "metadata": {},
   "outputs": [],
   "source": [
    "input_data = [[0,0],[0,1],[1,0],[1,1]]\n",
    "weight = [0,0]\n",
    "output_data = [0,0,0,1] #Boolean operador - AND\n",
    "#output_data = [0,1,1,1] #Boolean operador - OR\n",
    "#output_data = [0,1,1,0] #Boolean operador - XOR"
   ]
  },
  {
   "cell_type": "markdown",
   "metadata": {},
   "source": [
    "### function to view the data on the panda"
   ]
  },
  {
   "cell_type": "code",
   "execution_count": 3,
   "metadata": {},
   "outputs": [],
   "source": [
    "def dfdata(x,y,z):\n",
    "\n",
    "    data = {\n",
    "        'input':x,\n",
    "        'weight': y*int(len(input_data)/2),\n",
    "        'output': z,\n",
    "    }\n",
    "    df = pd.DataFrame(data)\n",
    "    return df"
   ]
  },
  {
   "cell_type": "code",
   "execution_count": 12,
   "metadata": {},
   "outputs": [
    {
     "data": {
      "text/html": [
       "<div>\n",
       "<style scoped>\n",
       "    .dataframe tbody tr th:only-of-type {\n",
       "        vertical-align: middle;\n",
       "    }\n",
       "\n",
       "    .dataframe tbody tr th {\n",
       "        vertical-align: top;\n",
       "    }\n",
       "\n",
       "    .dataframe thead th {\n",
       "        text-align: right;\n",
       "    }\n",
       "</style>\n",
       "<table border=\"1\" class=\"dataframe\">\n",
       "  <thead>\n",
       "    <tr style=\"text-align: right;\">\n",
       "      <th></th>\n",
       "      <th>input</th>\n",
       "      <th>weight</th>\n",
       "      <th>output</th>\n",
       "    </tr>\n",
       "  </thead>\n",
       "  <tbody>\n",
       "    <tr>\n",
       "      <th>0</th>\n",
       "      <td>[0, 0]</td>\n",
       "      <td>0.5</td>\n",
       "      <td>0</td>\n",
       "    </tr>\n",
       "    <tr>\n",
       "      <th>1</th>\n",
       "      <td>[0, 1]</td>\n",
       "      <td>0.5</td>\n",
       "      <td>0</td>\n",
       "    </tr>\n",
       "    <tr>\n",
       "      <th>2</th>\n",
       "      <td>[1, 0]</td>\n",
       "      <td>0.5</td>\n",
       "      <td>0</td>\n",
       "    </tr>\n",
       "    <tr>\n",
       "      <th>3</th>\n",
       "      <td>[1, 1]</td>\n",
       "      <td>0.5</td>\n",
       "      <td>1</td>\n",
       "    </tr>\n",
       "  </tbody>\n",
       "</table>\n",
       "</div>"
      ],
      "text/plain": [
       "    input  weight  output\n",
       "0  [0, 0]     0.5       0\n",
       "1  [0, 1]     0.5       0\n",
       "2  [1, 0]     0.5       0\n",
       "3  [1, 1]     0.5       1"
      ]
     },
     "execution_count": 12,
     "metadata": {},
     "output_type": "execute_result"
    }
   ],
   "source": [
    "first = dfdata(input_data, weight, output_data)\n",
    "first"
   ]
  },
  {
   "cell_type": "code",
   "execution_count": 5,
   "metadata": {},
   "outputs": [],
   "source": [
    "rate_learning = 0.1"
   ]
  },
  {
   "cell_type": "markdown",
   "metadata": {},
   "source": [
    "### Ativated function - Step"
   ]
  },
  {
   "cell_type": "code",
   "execution_count": 6,
   "metadata": {},
   "outputs": [],
   "source": [
    "def degrau(value):\n",
    "    \n",
    "    if value >= 1:\n",
    "        return 1\n",
    "    else:\n",
    "        return 0"
   ]
  },
  {
   "cell_type": "markdown",
   "metadata": {},
   "source": [
    "### sum function"
   ]
  },
  {
   "cell_type": "code",
   "execution_count": 7,
   "metadata": {},
   "outputs": [],
   "source": [
    "def soma():\n",
    "    \n",
    "    result = []\n",
    "    \n",
    "    for e in input_data:\n",
    "        \n",
    "        calculo = e[0]*weight[0] + e[1]*weight[1]\n",
    "        \n",
    "        result.append(degrau(calculo))\n",
    "    \n",
    "    print(f\"Para os Pesos = {weight}, resultado = {result}\")\n",
    "    return result"
   ]
  },
  {
   "cell_type": "markdown",
   "metadata": {},
   "source": [
    "### Training Function"
   ]
  },
  {
   "cell_type": "code",
   "execution_count": 8,
   "metadata": {},
   "outputs": [],
   "source": [
    "def training():\n",
    "    \n",
    "    k = soma()\n",
    "    epoca = 0\n",
    "    while k != output_data:\n",
    "        \n",
    "        for i in range(len(output_data)):\n",
    "            \n",
    "            \n",
    "            error = (output_data[i] - soma()[i])\n",
    "            \n",
    "            for j in range(len(weight)):\n",
    "                \n",
    "                weight[j] = round(weight[j] + (rate_learning*input_data[i][j]*error),2)\n",
    "                \n",
    "                k = soma()\n",
    "            epoca += 1\n",
    "    \n",
    "    return print(f'Época: {epoca}')"
   ]
  },
  {
   "cell_type": "code",
   "execution_count": 9,
   "metadata": {},
   "outputs": [
    {
     "name": "stdout",
     "output_type": "stream",
     "text": [
      "Para os Pesos = [0, 0], resultado = [0, 0, 0, 0]\n",
      "Para os Pesos = [0, 0], resultado = [0, 0, 0, 0]\n",
      "Para os Pesos = [0.0, 0], resultado = [0, 0, 0, 0]\n",
      "Para os Pesos = [0.0, 0.0], resultado = [0, 0, 0, 0]\n",
      "Para os Pesos = [0.0, 0.0], resultado = [0, 0, 0, 0]\n",
      "Para os Pesos = [0.0, 0.0], resultado = [0, 0, 0, 0]\n",
      "Para os Pesos = [0.0, 0.0], resultado = [0, 0, 0, 0]\n",
      "Para os Pesos = [0.0, 0.0], resultado = [0, 0, 0, 0]\n",
      "Para os Pesos = [0.0, 0.0], resultado = [0, 0, 0, 0]\n",
      "Para os Pesos = [0.0, 0.0], resultado = [0, 0, 0, 0]\n",
      "Para os Pesos = [0.0, 0.0], resultado = [0, 0, 0, 0]\n",
      "Para os Pesos = [0.1, 0.0], resultado = [0, 0, 0, 0]\n",
      "Para os Pesos = [0.1, 0.1], resultado = [0, 0, 0, 0]\n",
      "Para os Pesos = [0.1, 0.1], resultado = [0, 0, 0, 0]\n",
      "Para os Pesos = [0.1, 0.1], resultado = [0, 0, 0, 0]\n",
      "Para os Pesos = [0.1, 0.1], resultado = [0, 0, 0, 0]\n",
      "Para os Pesos = [0.1, 0.1], resultado = [0, 0, 0, 0]\n",
      "Para os Pesos = [0.1, 0.1], resultado = [0, 0, 0, 0]\n",
      "Para os Pesos = [0.1, 0.1], resultado = [0, 0, 0, 0]\n",
      "Para os Pesos = [0.1, 0.1], resultado = [0, 0, 0, 0]\n",
      "Para os Pesos = [0.1, 0.1], resultado = [0, 0, 0, 0]\n",
      "Para os Pesos = [0.1, 0.1], resultado = [0, 0, 0, 0]\n",
      "Para os Pesos = [0.1, 0.1], resultado = [0, 0, 0, 0]\n",
      "Para os Pesos = [0.2, 0.1], resultado = [0, 0, 0, 0]\n",
      "Para os Pesos = [0.2, 0.2], resultado = [0, 0, 0, 0]\n",
      "Para os Pesos = [0.2, 0.2], resultado = [0, 0, 0, 0]\n",
      "Para os Pesos = [0.2, 0.2], resultado = [0, 0, 0, 0]\n",
      "Para os Pesos = [0.2, 0.2], resultado = [0, 0, 0, 0]\n",
      "Para os Pesos = [0.2, 0.2], resultado = [0, 0, 0, 0]\n",
      "Para os Pesos = [0.2, 0.2], resultado = [0, 0, 0, 0]\n",
      "Para os Pesos = [0.2, 0.2], resultado = [0, 0, 0, 0]\n",
      "Para os Pesos = [0.2, 0.2], resultado = [0, 0, 0, 0]\n",
      "Para os Pesos = [0.2, 0.2], resultado = [0, 0, 0, 0]\n",
      "Para os Pesos = [0.2, 0.2], resultado = [0, 0, 0, 0]\n",
      "Para os Pesos = [0.2, 0.2], resultado = [0, 0, 0, 0]\n",
      "Para os Pesos = [0.3, 0.2], resultado = [0, 0, 0, 0]\n",
      "Para os Pesos = [0.3, 0.3], resultado = [0, 0, 0, 0]\n",
      "Para os Pesos = [0.3, 0.3], resultado = [0, 0, 0, 0]\n",
      "Para os Pesos = [0.3, 0.3], resultado = [0, 0, 0, 0]\n",
      "Para os Pesos = [0.3, 0.3], resultado = [0, 0, 0, 0]\n",
      "Para os Pesos = [0.3, 0.3], resultado = [0, 0, 0, 0]\n",
      "Para os Pesos = [0.3, 0.3], resultado = [0, 0, 0, 0]\n",
      "Para os Pesos = [0.3, 0.3], resultado = [0, 0, 0, 0]\n",
      "Para os Pesos = [0.3, 0.3], resultado = [0, 0, 0, 0]\n",
      "Para os Pesos = [0.3, 0.3], resultado = [0, 0, 0, 0]\n",
      "Para os Pesos = [0.3, 0.3], resultado = [0, 0, 0, 0]\n",
      "Para os Pesos = [0.3, 0.3], resultado = [0, 0, 0, 0]\n",
      "Para os Pesos = [0.4, 0.3], resultado = [0, 0, 0, 0]\n",
      "Para os Pesos = [0.4, 0.4], resultado = [0, 0, 0, 0]\n",
      "Para os Pesos = [0.4, 0.4], resultado = [0, 0, 0, 0]\n",
      "Para os Pesos = [0.4, 0.4], resultado = [0, 0, 0, 0]\n",
      "Para os Pesos = [0.4, 0.4], resultado = [0, 0, 0, 0]\n",
      "Para os Pesos = [0.4, 0.4], resultado = [0, 0, 0, 0]\n",
      "Para os Pesos = [0.4, 0.4], resultado = [0, 0, 0, 0]\n",
      "Para os Pesos = [0.4, 0.4], resultado = [0, 0, 0, 0]\n",
      "Para os Pesos = [0.4, 0.4], resultado = [0, 0, 0, 0]\n",
      "Para os Pesos = [0.4, 0.4], resultado = [0, 0, 0, 0]\n",
      "Para os Pesos = [0.4, 0.4], resultado = [0, 0, 0, 0]\n",
      "Para os Pesos = [0.4, 0.4], resultado = [0, 0, 0, 0]\n",
      "Para os Pesos = [0.5, 0.4], resultado = [0, 0, 0, 0]\n",
      "Para os Pesos = [0.5, 0.5], resultado = [0, 0, 0, 1]\n",
      "Época: 20\n"
     ]
    }
   ],
   "source": [
    "training()"
   ]
  },
  {
   "cell_type": "code",
   "execution_count": 11,
   "metadata": {},
   "outputs": [
    {
     "data": {
      "text/html": [
       "<div>\n",
       "<style scoped>\n",
       "    .dataframe tbody tr th:only-of-type {\n",
       "        vertical-align: middle;\n",
       "    }\n",
       "\n",
       "    .dataframe tbody tr th {\n",
       "        vertical-align: top;\n",
       "    }\n",
       "\n",
       "    .dataframe thead th {\n",
       "        text-align: right;\n",
       "    }\n",
       "</style>\n",
       "<table border=\"1\" class=\"dataframe\">\n",
       "  <thead>\n",
       "    <tr style=\"text-align: right;\">\n",
       "      <th></th>\n",
       "      <th>input</th>\n",
       "      <th>weight</th>\n",
       "      <th>output</th>\n",
       "    </tr>\n",
       "  </thead>\n",
       "  <tbody>\n",
       "    <tr>\n",
       "      <th>0</th>\n",
       "      <td>[0, 0]</td>\n",
       "      <td>0.5</td>\n",
       "      <td>0</td>\n",
       "    </tr>\n",
       "    <tr>\n",
       "      <th>1</th>\n",
       "      <td>[0, 1]</td>\n",
       "      <td>0.5</td>\n",
       "      <td>0</td>\n",
       "    </tr>\n",
       "    <tr>\n",
       "      <th>2</th>\n",
       "      <td>[1, 0]</td>\n",
       "      <td>0.5</td>\n",
       "      <td>0</td>\n",
       "    </tr>\n",
       "    <tr>\n",
       "      <th>3</th>\n",
       "      <td>[1, 1]</td>\n",
       "      <td>0.5</td>\n",
       "      <td>1</td>\n",
       "    </tr>\n",
       "  </tbody>\n",
       "</table>\n",
       "</div>"
      ],
      "text/plain": [
       "    input  weight  output\n",
       "0  [0, 0]     0.5       0\n",
       "1  [0, 1]     0.5       0\n",
       "2  [1, 0]     0.5       0\n",
       "3  [1, 1]     0.5       1"
      ]
     },
     "execution_count": 11,
     "metadata": {},
     "output_type": "execute_result"
    }
   ],
   "source": [
    "new = dfdata(input_data, weight, output_data)\n",
    "new"
   ]
  }
 ],
 "metadata": {
  "kernelspec": {
   "display_name": "Python 3",
   "language": "python",
   "name": "python3"
  },
  "language_info": {
   "codemirror_mode": {
    "name": "ipython",
    "version": 3
   },
   "file_extension": ".py",
   "mimetype": "text/x-python",
   "name": "python",
   "nbconvert_exporter": "python",
   "pygments_lexer": "ipython3",
   "version": "3.6.8"
  }
 },
 "nbformat": 4,
 "nbformat_minor": 2
}
