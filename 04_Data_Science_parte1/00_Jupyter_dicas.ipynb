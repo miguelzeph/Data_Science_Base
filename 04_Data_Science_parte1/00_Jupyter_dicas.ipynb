{
 "cells": [
  {
   "cell_type": "markdown",
   "metadata": {},
   "source": [
    "### Jupyter Dicas\n",
    "\n",
    "Antes de começar, fique atento as dicas abaixo\n",
    "\n",
    "\n",
    "#### Dica 1 - teclas de atalho jupyter\n",
    "shortcut keys <br>\n",
    "b-> new cell above <br>\n",
    "x-> cut cell <br>\n",
    "ctrl + enter -> run <br>\n",
    "<font color = 'red'>Para visualizar a documentação da função, basta clicar dentro dela e apertar SHIFT + TAB</font><br>\n",
    "mais dicas: https://www.dataquest.io/blog/jupyter-notebook-tips-tricks-shortcuts/\n",
    "#### Dica 2 - comando pwd do linux\n",
    "Saber qual diretório está\n",
    "#### Dica 3 - sys.version do python\n",
    "Certifique-se que está usando o python correto\n",
    "no jupyter... \n",
    "\n",
    "#### Dica 4 - caso queira usar o terminal do linux no jupyter\n",
    "\n",
    "Coloque sempre a exclamação (!) no início para que o jupyter entenda que você quer acessar o terminal\n",
    "\n",
    "ex:\n",
    "\n",
    "!pip3.6 list | grep numpy\n",
    "\n",
    "OBS: SE VOCÊ NÃO UTILIZAR NENHUM COMANDO PYTHON NA LINHA, NÃO PRECISA DO \"!\"\n",
    "\n",
    "OBS2: Existe o comando mágico %%bash, dentro da célula usada tudo será terminal\n"
   ]
  },
  {
   "cell_type": "code",
   "execution_count": 5,
   "metadata": {},
   "outputs": [
    {
     "name": "stdout",
     "output_type": "stream",
     "text": [
      "/home/miguel/Apps/Data_Science_Python_GIT/04_Data_Science_parte1\r\n"
     ]
    }
   ],
   "source": [
    "#Dica 2\n",
    "!pwd"
   ]
  },
  {
   "cell_type": "code",
   "execution_count": 6,
   "metadata": {},
   "outputs": [
    {
     "name": "stdout",
     "output_type": "stream",
     "text": [
      "3.6.8 (default, Oct  7 2019, 12:59:55) \n",
      "[GCC 8.3.0]\n"
     ]
    }
   ],
   "source": [
    "#Dica 3\n",
    "import sys\n",
    "print(sys.version) #Estamos no python 3.6"
   ]
  },
  {
   "cell_type": "code",
   "execution_count": 7,
   "metadata": {
    "scrolled": true
   },
   "outputs": [
    {
     "name": "stdout",
     "output_type": "stream",
     "text": [
      "ipykernel                5.1.0              \n",
      "ipython                  7.3.0              \n",
      "ipython-genutils         0.2.0              \n",
      "ipywidgets               7.4.2              \n",
      "scipy                    1.2.1              \n"
     ]
    }
   ],
   "source": [
    "# Dica 4\n",
    "!pip3.6 list | grep ipy"
   ]
  },
  {
   "cell_type": "code",
   "execution_count": 8,
   "metadata": {
    "scrolled": true
   },
   "outputs": [
    {
     "data": {
      "text/plain": [
       "['ipykernel                5.1.0              ',\n",
       " 'ipython                  7.3.0              ',\n",
       " 'ipython-genutils         0.2.0              ',\n",
       " 'ipywidgets               7.4.2              ',\n",
       " 'scipy                    1.2.1              ']"
      ]
     },
     "execution_count": 8,
     "metadata": {},
     "output_type": "execute_result"
    }
   ],
   "source": [
    "#podemos ainda adicionar em constante\n",
    "a = !pip3.6 list | grep ipy\n",
    "a"
   ]
  },
  {
   "cell_type": "code",
   "execution_count": 9,
   "metadata": {},
   "outputs": [
    {
     "data": {
      "text/plain": [
       "['ipykernel5.1.0',\n",
       " 'ipython7.3.0',\n",
       " 'ipython-genutils0.2.0',\n",
       " 'ipywidgets7.4.2',\n",
       " 'scipy1.2.1']"
      ]
     },
     "execution_count": 9,
     "metadata": {},
     "output_type": "execute_result"
    }
   ],
   "source": [
    "# Logo podemos manipular esses valores... exemplo: remover os espaços\n",
    "[n.replace(' ','') for n in a]"
   ]
  },
  {
   "cell_type": "code",
   "execution_count": 4,
   "metadata": {},
   "outputs": [
    {
     "name": "stdout",
     "output_type": "stream",
     "text": [
      "['total 3552', '-rw-r--r-- 1 miguel miguel    4169 abr  3 16:16 00_Jupyter_dicas.ipynb', '-rw-r--r-- 1 miguel miguel   13683 mar 31 21:22 01_Numpy_study.ipynb', '-rw-r--r-- 1 miguel miguel  148301 mar 22 19:02 02_Pandas_study.ipynb', '-rw-r--r-- 1 miguel miguel  102798 mar 29 23:50 03_Matplotlib_study.ipynb', '-rw-r--r-- 1 miguel miguel 1811882 mar 24 23:22 04_Seaborn_study.ipynb', 'drwxr-xr-x 4 miguel miguel    4096 abr  1 13:00 05_Data_visualization', '-rw-r--r-- 1 miguel miguel      72 mar 23 19:19 05_Pandas_Data_Visualization.ipynb', '-rw-r--r-- 1 miguel miguel  666251 mar 24 23:25 06_Plotly_Cufflinks_study.ipynb', '-rw-r--r-- 1 miguel miguel  328587 mar 28 01:18 07_Linear_Regression_study.ipynb', '-rw-r--r-- 1 miguel miguel  120567 mar 28 22:20 07_parte2_Linear_Regression.ipynb', '-rw-r--r-- 1 miguel miguel   87079 mar 30 09:28 07_parte3_Linear_Regression.ipynb', '-rw-r--r-- 1 miguel miguel  130404 mar 27 17:53 08_Logistic_Regression_parte1.ipynb', '-rw-r--r-- 1 miguel miguel   42381 abr  3 16:17 08_Logistic_Regression_parte2.ipynb', '-rw-r--r-- 1 miguel miguel  139151 abr  1 20:08 09_Kmeans_Clustering.ipynb', 'drwxr-xr-x 2 miguel miguel    4096 abr  3 13:07 dados_panda']\n"
     ]
    }
   ],
   "source": [
    "lista = !ls -l\n",
    "\n",
    "for l in [lista]:\n",
    "    print(l)"
   ]
  },
  {
   "cell_type": "code",
   "execution_count": 9,
   "metadata": {},
   "outputs": [
    {
     "data": {
      "text/plain": [
       "'01_Numpy_study.ipynb'"
      ]
     },
     "execution_count": 9,
     "metadata": {},
     "output_type": "execute_result"
    }
   ],
   "source": [
    "!cd ./dados_panda/\n",
    "\n",
    "dados = !ls\n",
    "\n",
    "dados[1]"
   ]
  },
  {
   "cell_type": "code",
   "execution_count": 22,
   "metadata": {
    "scrolled": true
   },
   "outputs": [],
   "source": [
    "!cd ./dados_panda/ # Não executa pois tem ! e tem python... só pega os valores"
   ]
  },
  {
   "cell_type": "code",
   "execution_count": null,
   "metadata": {},
   "outputs": [],
   "source": [
    "# Executa, pois não tem python no meio"
   ]
  },
  {
   "cell_type": "code",
   "execution_count": 30,
   "metadata": {},
   "outputs": [
    {
     "name": "stdout",
     "output_type": "stream",
     "text": [
      "[Errno 2] No such file or directory: './dados_panda/'\n",
      "/home/miguel/Apps/Data_Science_Python_GIT/04_Data_Science_parte1/dados_panda\n"
     ]
    }
   ],
   "source": [
    "cd ./dados_panda/"
   ]
  },
  {
   "cell_type": "code",
   "execution_count": 62,
   "metadata": {},
   "outputs": [
    {
     "data": {
      "text/plain": [
       "['dados.csv', 'housing.csv']"
      ]
     },
     "execution_count": 62,
     "metadata": {},
     "output_type": "execute_result"
    }
   ],
   "source": [
    "lista = !ls # ou (sem linux)... import os; lista= os.listdir()\n",
    "csv = [add for add in lista if add[-4:] == '.csv']\n",
    "csv"
   ]
  },
  {
   "cell_type": "code",
   "execution_count": 96,
   "metadata": {},
   "outputs": [
    {
     "name": "stdout",
     "output_type": "stream",
     "text": [
      "/home/miguel/Apps/Data_Science_Python_GIT/04_Data_Science_parte1/dados_panda\r\n"
     ]
    },
    {
     "data": {
      "text/plain": [
       "['./teste.txt', './teste', './My_output', './dados.csv']"
      ]
     },
     "execution_count": 96,
     "metadata": {},
     "output_type": "execute_result"
    }
   ],
   "source": [
    "!pwd\n",
    "escrita = !grep -R -i \"miguel\" ./\n",
    "escrita_arq = [esc.split(':')[0] for esc in escrita]\n",
    "escrita_arq\n",
    "#Dentro destes arquivos está escrito 'Miguel'"
   ]
  },
  {
   "cell_type": "markdown",
   "metadata": {},
   "source": [
    "Também é possível usar os comandos do sistema Linux no python diretamente, sem precisar do Jupyter. Para isso use a biblioteca os"
   ]
  }
 ],
 "metadata": {
  "kernelspec": {
   "display_name": "Python 3",
   "language": "python",
   "name": "python3"
  },
  "language_info": {
   "codemirror_mode": {
    "name": "ipython",
    "version": 3
   },
   "file_extension": ".py",
   "mimetype": "text/x-python",
   "name": "python",
   "nbconvert_exporter": "python",
   "pygments_lexer": "ipython3",
   "version": "3.6.8"
  }
 },
 "nbformat": 4,
 "nbformat_minor": 2
}
