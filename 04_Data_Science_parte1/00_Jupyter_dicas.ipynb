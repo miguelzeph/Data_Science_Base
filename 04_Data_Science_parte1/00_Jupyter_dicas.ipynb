{
 "cells": [
  {
   "cell_type": "markdown",
   "metadata": {},
   "source": [
    "### Jupyter Dicas\n",
    "\n",
    "Antes de começar, fique atento as dicas abaixo\n",
    "\n",
    "\n",
    "#### Dica 1 - teclas de atalho jupyter\n",
    "shortcut keys <br>\n",
    "b-> new cell above <br>\n",
    "x-> cut cell <br>\n",
    "ctrl + enter -> run <br>\n",
    "<font color = 'red'>Para visualizar a documentação da função, basta clicar dentro dela e apertar SHIFT + TAB</font><br>\n",
    "mais dicas: https://www.dataquest.io/blog/jupyter-notebook-tips-tricks-shortcuts/\n",
    "#### Dica 2 - comando pwd do linux\n",
    "Saber qual diretório está\n",
    "#### Dica 3 - sys.version do python\n",
    "Certifique-se que está usando o python correto\n",
    "no jupyter... \n",
    "\n",
    "#### Dica 4 - caso queira usar o terminal do linux no jupyter\n",
    "\n",
    "Coloque sempre a exclamação no início para que o jupyter entenda que você quer acessar o terminal\n",
    "\n",
    "ex:\n",
    "\n",
    "!pip3.6 list | grep numpy\n",
    "\n",
    "OBS: SE VOCÊ NÃO UTILIZAR NENHUM COMANDO PYTHON NA LINHA, NÃO PRECISA DO \"!\"\n"
   ]
  },
  {
   "cell_type": "code",
   "execution_count": 5,
   "metadata": {},
   "outputs": [
    {
     "name": "stdout",
     "output_type": "stream",
     "text": [
      "/home/miguel/Apps/Data_Science_Python_GIT/04_Data_Science_parte1\r\n"
     ]
    }
   ],
   "source": [
    "#Dica 2\n",
    "!pwd"
   ]
  },
  {
   "cell_type": "code",
   "execution_count": 6,
   "metadata": {},
   "outputs": [
    {
     "name": "stdout",
     "output_type": "stream",
     "text": [
      "3.6.8 (default, Oct  7 2019, 12:59:55) \n",
      "[GCC 8.3.0]\n"
     ]
    }
   ],
   "source": [
    "#Dica 3\n",
    "import sys\n",
    "print(sys.version) #Estamos no python 3.6"
   ]
  },
  {
   "cell_type": "code",
   "execution_count": 7,
   "metadata": {
    "scrolled": true
   },
   "outputs": [
    {
     "name": "stdout",
     "output_type": "stream",
     "text": [
      "ipykernel                5.1.0              \n",
      "ipython                  7.3.0              \n",
      "ipython-genutils         0.2.0              \n",
      "ipywidgets               7.4.2              \n",
      "scipy                    1.2.1              \n"
     ]
    }
   ],
   "source": [
    "# Dica 4\n",
    "!pip3.6 list | grep ipy"
   ]
  },
  {
   "cell_type": "code",
   "execution_count": 8,
   "metadata": {
    "scrolled": true
   },
   "outputs": [
    {
     "data": {
      "text/plain": [
       "['ipykernel                5.1.0              ',\n",
       " 'ipython                  7.3.0              ',\n",
       " 'ipython-genutils         0.2.0              ',\n",
       " 'ipywidgets               7.4.2              ',\n",
       " 'scipy                    1.2.1              ']"
      ]
     },
     "execution_count": 8,
     "metadata": {},
     "output_type": "execute_result"
    }
   ],
   "source": [
    "#podemos ainda adicionar em constante\n",
    "a = !pip3.6 list | grep ipy\n",
    "a"
   ]
  },
  {
   "cell_type": "code",
   "execution_count": 9,
   "metadata": {},
   "outputs": [
    {
     "data": {
      "text/plain": [
       "['ipykernel5.1.0',\n",
       " 'ipython7.3.0',\n",
       " 'ipython-genutils0.2.0',\n",
       " 'ipywidgets7.4.2',\n",
       " 'scipy1.2.1']"
      ]
     },
     "execution_count": 9,
     "metadata": {},
     "output_type": "execute_result"
    }
   ],
   "source": [
    "# Logo podemos manipular esses valores... exemplo: remover os espaços\n",
    "[n.replace(' ','') for n in a]"
   ]
  }
 ],
 "metadata": {
  "kernelspec": {
   "display_name": "Python 3",
   "language": "python",
   "name": "python3"
  },
  "language_info": {
   "codemirror_mode": {
    "name": "ipython",
    "version": 3
   },
   "file_extension": ".py",
   "mimetype": "text/x-python",
   "name": "python",
   "nbconvert_exporter": "python",
   "pygments_lexer": "ipython3",
   "version": "3.6.8"
  }
 },
 "nbformat": 4,
 "nbformat_minor": 2
}
