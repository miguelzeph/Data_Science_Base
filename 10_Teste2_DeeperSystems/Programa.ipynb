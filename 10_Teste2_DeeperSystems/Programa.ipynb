{
 "cells": [
  {
   "cell_type": "markdown",
   "metadata": {},
   "source": [
    "### Problem:\n",
    "The images are in different orientations: upright, rotated_right , rotated_left ,upside_down and upright .\n",
    "\n",
    "### Solution: \n",
    "A neural network must be trained to solve the test problem. There is a train.csv file that contains a column called label (the learning algorithm) and in the fn column the name of the file (extraction of characteristics). The images must be opened as a vector, so that NN can obtain the characteristics. In this case, supervised learning should be used due to needing to learn the difference between the positions of the images."
   ]
  },
  {
   "cell_type": "markdown",
   "metadata": {},
   "source": [
    "# Attempt 1- Image classification from keras"
   ]
  },
  {
   "cell_type": "markdown",
   "metadata": {},
   "source": [
    "### 1-) Import Library"
   ]
  },
  {
   "cell_type": "code",
   "execution_count": 11,
   "metadata": {},
   "outputs": [],
   "source": [
    "import numpy as np\n",
    "import pandas as pd\n",
    "import matplotlib.pyplot as plt\n",
    "import matplotlib.image as mpimg\n",
    "import os\n",
    "import gc\n",
    "%matplotlib inline"
   ]
  },
  {
   "cell_type": "markdown",
   "metadata": {},
   "source": [
    "### 2-) Read and View the Data"
   ]
  },
  {
   "cell_type": "code",
   "execution_count": 61,
   "metadata": {},
   "outputs": [],
   "source": [
    "train_imgs = pd.read_csv('./train.csv')"
   ]
  },
  {
   "cell_type": "code",
   "execution_count": 62,
   "metadata": {},
   "outputs": [
    {
     "data": {
      "text/html": [
       "<div>\n",
       "<style scoped>\n",
       "    .dataframe tbody tr th:only-of-type {\n",
       "        vertical-align: middle;\n",
       "    }\n",
       "\n",
       "    .dataframe tbody tr th {\n",
       "        vertical-align: top;\n",
       "    }\n",
       "\n",
       "    .dataframe thead th {\n",
       "        text-align: right;\n",
       "    }\n",
       "</style>\n",
       "<table border=\"1\" class=\"dataframe\">\n",
       "  <thead>\n",
       "    <tr style=\"text-align: right;\">\n",
       "      <th></th>\n",
       "      <th>fn</th>\n",
       "      <th>label</th>\n",
       "    </tr>\n",
       "  </thead>\n",
       "  <tbody>\n",
       "    <tr>\n",
       "      <th>0</th>\n",
       "      <td>0-10049200_1891-09-16_1958.jpg</td>\n",
       "      <td>rotated_left</td>\n",
       "    </tr>\n",
       "    <tr>\n",
       "      <th>1</th>\n",
       "      <td>0-10110600_1985-09-17_2012.jpg</td>\n",
       "      <td>rotated_left</td>\n",
       "    </tr>\n",
       "    <tr>\n",
       "      <th>2</th>\n",
       "      <td>0-10126400_1964-07-07_2010.jpg</td>\n",
       "      <td>upright</td>\n",
       "    </tr>\n",
       "    <tr>\n",
       "      <th>3</th>\n",
       "      <td>0-1013900_1917-10-15_1960.jpg</td>\n",
       "      <td>rotated_right</td>\n",
       "    </tr>\n",
       "    <tr>\n",
       "      <th>4</th>\n",
       "      <td>0-10166400_1960-03-12_2008.jpg</td>\n",
       "      <td>upside_down</td>\n",
       "    </tr>\n",
       "  </tbody>\n",
       "</table>\n",
       "</div>"
      ],
      "text/plain": [
       "                               fn          label\n",
       "0  0-10049200_1891-09-16_1958.jpg   rotated_left\n",
       "1  0-10110600_1985-09-17_2012.jpg   rotated_left\n",
       "2  0-10126400_1964-07-07_2010.jpg        upright\n",
       "3   0-1013900_1917-10-15_1960.jpg  rotated_right\n",
       "4  0-10166400_1960-03-12_2008.jpg    upside_down"
      ]
     },
     "execution_count": 62,
     "metadata": {},
     "output_type": "execute_result"
    }
   ],
   "source": [
    "# Check data\n",
    "train_imgs.head(5)"
   ]
  },
  {
   "cell_type": "code",
   "execution_count": 63,
   "metadata": {},
   "outputs": [
    {
     "data": {
      "text/html": [
       "<div>\n",
       "<style scoped>\n",
       "    .dataframe tbody tr th:only-of-type {\n",
       "        vertical-align: middle;\n",
       "    }\n",
       "\n",
       "    .dataframe tbody tr th {\n",
       "        vertical-align: top;\n",
       "    }\n",
       "\n",
       "    .dataframe thead th {\n",
       "        text-align: right;\n",
       "    }\n",
       "</style>\n",
       "<table border=\"1\" class=\"dataframe\">\n",
       "  <thead>\n",
       "    <tr style=\"text-align: right;\">\n",
       "      <th></th>\n",
       "      <th>fn</th>\n",
       "      <th>label</th>\n",
       "    </tr>\n",
       "  </thead>\n",
       "  <tbody>\n",
       "    <tr>\n",
       "      <th>48891</th>\n",
       "      <td>89-9693789_1941-01-11_1973.jpg</td>\n",
       "      <td>upright</td>\n",
       "    </tr>\n",
       "    <tr>\n",
       "      <th>48892</th>\n",
       "      <td>89-9719989_1985-04-13_2004.jpg</td>\n",
       "      <td>rotated_left</td>\n",
       "    </tr>\n",
       "    <tr>\n",
       "      <th>48893</th>\n",
       "      <td>89-981289_1962-12-23_2009.jpg</td>\n",
       "      <td>rotated_left</td>\n",
       "    </tr>\n",
       "    <tr>\n",
       "      <th>48894</th>\n",
       "      <td>89-9921189_1983-11-25_2013.jpg</td>\n",
       "      <td>rotated_left</td>\n",
       "    </tr>\n",
       "    <tr>\n",
       "      <th>48895</th>\n",
       "      <td>89-9954489_1927-03-13_1977.jpg</td>\n",
       "      <td>rotated_right</td>\n",
       "    </tr>\n",
       "  </tbody>\n",
       "</table>\n",
       "</div>"
      ],
      "text/plain": [
       "                                   fn          label\n",
       "48891  89-9693789_1941-01-11_1973.jpg        upright\n",
       "48892  89-9719989_1985-04-13_2004.jpg   rotated_left\n",
       "48893   89-981289_1962-12-23_2009.jpg   rotated_left\n",
       "48894  89-9921189_1983-11-25_2013.jpg   rotated_left\n",
       "48895  89-9954489_1927-03-13_1977.jpg  rotated_right"
      ]
     },
     "execution_count": 63,
     "metadata": {},
     "output_type": "execute_result"
    }
   ],
   "source": [
    "# Check data\n",
    "train_imgs.tail(5)"
   ]
  },
  {
   "cell_type": "code",
   "execution_count": 64,
   "metadata": {},
   "outputs": [
    {
     "data": {
      "text/plain": [
       "48896"
      ]
     },
     "execution_count": 64,
     "metadata": {},
     "output_type": "execute_result"
    }
   ],
   "source": [
    "len(train_imgs['fn'])"
   ]
  },
  {
   "cell_type": "markdown",
   "metadata": {},
   "source": [
    "View images first 5 image"
   ]
  },
  {
   "cell_type": "code",
   "execution_count": 65,
   "metadata": {
    "scrolled": true
   },
   "outputs": [
    {
     "data": {
      "image/png": "[encoded data removed]",
      "text/plain": [
       "<Figure size 432x288 with 1 Axes>"
      ]
     },
     "metadata": {
      "needs_background": "light"
     },
     "output_type": "display_data"
    },
    {
     "name": "stdout",
     "output_type": "stream",
     "text": [
      "(64, 64, 3)\n"
     ]
    },
    {
     "data": {
      "image/png": "[encoded data removed]",
      "text/plain": [
       "<Figure size 432x288 with 1 Axes>"
      ]
     },
     "metadata": {
      "needs_background": "light"
     },
     "output_type": "display_data"
    },
    {
     "name": "stdout",
     "output_type": "stream",
     "text": [
      "(64, 64, 3)\n"
     ]
    },
    {
     "data": {
      "image/png": "[encoded data removed]",
      "text/plain": [
       "<Figure size 432x288 with 1 Axes>"
      ]
     },
     "metadata": {
      "needs_background": "light"
     },
     "output_type": "display_data"
    },
    {
     "name": "stdout",
     "output_type": "stream",
     "text": [
      "(64, 64, 3)\n"
     ]
    },
    {
     "data": {
      "image/png": "[encoded data removed]",
      "text/plain": [
       "<Figure size 432x288 with 1 Axes>"
      ]
     },
     "metadata": {
      "needs_background": "light"
     },
     "output_type": "display_data"
    },
    {
     "name": "stdout",
     "output_type": "stream",
     "text": [
      "(64, 64, 3)\n"
     ]
    },
    {
     "data": {
      "image/png": "[encoded data removed]",
      "text/plain": [
       "<Figure size 432x288 with 1 Axes>"
      ]
     },
     "metadata": {
      "needs_background": "light"
     },
     "output_type": "display_data"
    },
    {
     "name": "stdout",
     "output_type": "stream",
     "text": [
      "(64, 64, 3)\n"
     ]
    }
   ],
   "source": [
    "for ima in train_imgs['fn'][0:5]:\n",
    "    img = mpimg.imread('./train/'+ima)\n",
    "    imgplot = plt.imshow(img)\n",
    "    plt.show()\n",
    "    print(img.shape)"
   ]
  },
  {
   "cell_type": "markdown",
   "metadata": {},
   "source": [
    "### 3-) Organize the Data"
   ]
  },
  {
   "cell_type": "markdown",
   "metadata": {},
   "source": [
    "Function to separate the characteristics of the images of the learning"
   ]
  },
  {
   "cell_type": "code",
   "execution_count": 66,
   "metadata": {},
   "outputs": [],
   "source": [
    "def read_and_process_image(lista_img,lista_lab):\n",
    "    X = []\n",
    "    y =[]\n",
    "    for image,label in zip(lista_img,lista_lab):\n",
    "        X.append(mpimg.imread('./train/'+image))# add image to array\n",
    "        \n",
    "        \"\"\"Change string to int:\n",
    "        \n",
    "        upright = 0,\n",
    "        \n",
    "        right = 1,\n",
    "        \n",
    "        left = 2,\n",
    "        \n",
    "        upside down =3\"\"\"\n",
    "        \n",
    "        if 'upright' in label:\n",
    "            y.append(0)\n",
    "        elif 'rotated_right' in label:\n",
    "            y.append(1)\n",
    "        elif 'rotated_left' in label:\n",
    "            y.append(2)\n",
    "        elif 'upside_down' in label:\n",
    "            y.append(3)\n",
    "        else:\n",
    "            y.append(None)\n",
    "    return X,y"
   ]
  },
  {
   "cell_type": "markdown",
   "metadata": {},
   "source": [
    "Add datas in X and y variable"
   ]
  },
  {
   "cell_type": "code",
   "execution_count": 67,
   "metadata": {},
   "outputs": [],
   "source": [
    "X,y = read_and_process_image(train_imgs['fn'][0:10000],train_imgs['label'][0:10000])"
   ]
  },
  {
   "cell_type": "code",
   "execution_count": 68,
   "metadata": {},
   "outputs": [],
   "source": [
    "# turn into Array\n",
    "X = np.array(X)\n",
    "y = np.array(y)"
   ]
  },
  {
   "cell_type": "code",
   "execution_count": 69,
   "metadata": {},
   "outputs": [
    {
     "data": {
      "text/plain": [
       "(500, 64, 64, 3)"
      ]
     },
     "execution_count": 69,
     "metadata": {},
     "output_type": "execute_result"
    }
   ],
   "source": [
    "# X => (img number, rowns, coloumns,layers)\n",
    "X.shape"
   ]
  },
  {
   "cell_type": "code",
   "execution_count": 70,
   "metadata": {},
   "outputs": [
    {
     "data": {
      "text/plain": [
       "(500,)"
      ]
     },
     "execution_count": 70,
     "metadata": {},
     "output_type": "execute_result"
    }
   ],
   "source": [
    "# y => (values of img orientation)\n",
    "y.shape"
   ]
  },
  {
   "cell_type": "code",
   "execution_count": 71,
   "metadata": {
    "scrolled": false
   },
   "outputs": [
    {
     "data": {
      "text/plain": [
       "11682"
      ]
     },
     "execution_count": 71,
     "metadata": {},
     "output_type": "execute_result"
    }
   ],
   "source": [
    "# deleting unnecessary variables.\n",
    "del train_imgs\n",
    "gc.collect()"
   ]
  },
  {
   "cell_type": "markdown",
   "metadata": {},
   "source": [
    "### 4-)  Split  the Data with sklearn\n",
    "splitting data arrays into two subsets"
   ]
  },
  {
   "cell_type": "code",
   "execution_count": 72,
   "metadata": {},
   "outputs": [],
   "source": [
    "from sklearn.model_selection import train_test_split"
   ]
  },
  {
   "cell_type": "code",
   "execution_count": 73,
   "metadata": {},
   "outputs": [],
   "source": [
    "X_train, X_test, y_train, y_test = train_test_split(\n",
    "    X,\n",
    "    y,\n",
    "    test_size=0.20,#20% reserved to test\n",
    "    random_state =2\n",
    ")"
   ]
  },
  {
   "cell_type": "code",
   "execution_count": 74,
   "metadata": {
    "scrolled": true
   },
   "outputs": [
    {
     "data": {
      "text/plain": [
       "0"
      ]
     },
     "execution_count": 74,
     "metadata": {},
     "output_type": "execute_result"
    }
   ],
   "source": [
    "# deleting unnecessary variables again.\n",
    "del X\n",
    "del y\n",
    "gc.collect()"
   ]
  },
  {
   "cell_type": "code",
   "execution_count": 75,
   "metadata": {},
   "outputs": [
    {
     "data": {
      "text/plain": [
       "((400, 64, 64, 3), (400,))"
      ]
     },
     "execution_count": 75,
     "metadata": {},
     "output_type": "execute_result"
    }
   ],
   "source": [
    "X_train.shape, y_train.shape"
   ]
  },
  {
   "cell_type": "code",
   "execution_count": 76,
   "metadata": {
    "scrolled": true
   },
   "outputs": [
    {
     "data": {
      "text/plain": [
       "((100, 64, 64, 3), (100,))"
      ]
     },
     "execution_count": 76,
     "metadata": {},
     "output_type": "execute_result"
    }
   ],
   "source": [
    "X_test.shape, y_test.shape"
   ]
  },
  {
   "cell_type": "markdown",
   "metadata": {},
   "source": [
    "### 5-) starting training"
   ]
  },
  {
   "cell_type": "code",
   "execution_count": 28,
   "metadata": {},
   "outputs": [
    {
     "name": "stderr",
     "output_type": "stream",
     "text": [
      "Using TensorFlow backend.\n"
     ]
    }
   ],
   "source": [
    "from keras import (\n",
    "    layers,# Contains different types of layers used in deep learning, such as, Convolutional\n",
    "    models,# Sequential will be used\n",
    "    optimizers# back propagation algorithm (we will use Adams)\n",
    ")\n",
    "\n",
    "from keras.preprocessing.image import ImageDataGenerator\n"
   ]
  },
  {
   "cell_type": "markdown",
   "metadata": {},
   "source": [
    "begin create the model"
   ]
  },
  {
   "cell_type": "code",
   "execution_count": 59,
   "metadata": {},
   "outputs": [],
   "source": [
    "def create_model():\n",
    "    \n",
    "    model = models.Sequential()\n",
    "    model.add(layers.Conv2D(filters = 32,kernel_size=(3,3),activation = 'relu',input_shape=(64,64,3)))\n",
    "    model.add(layers.MaxPooling2D((2,2)))\n",
    "    model.add(layers.Conv2D(64,(3,3),activation = 'relu'))\n",
    "    model.add(layers.MaxPooling2D((2,2)))\n",
    "    model.add(layers.Conv2D(128,(3,3),activation = 'relu'))\n",
    "    model.add(layers.MaxPooling2D((2,2)))\n",
    "    model.add(layers.Conv2D(128,(3,3),activation = 'relu'))\n",
    "    model.add(layers.MaxPooling2D((2,2)))\n",
    "    model.add(layers.Flatten()) #Convert matrix to array (input data)\n",
    "    model.add(layers.Dropout(0.5))\n",
    "    model.add(layers.Dense(64,activation = 'relu'))\n",
    "    model.add(layers.Dense(4, activation = 'softmax'))# we will use 'softmax' because 4 position possibilities\n",
    "    \n",
    "    return model"
   ]
  },
  {
   "cell_type": "code",
   "execution_count": 31,
   "metadata": {},
   "outputs": [
    {
     "name": "stdout",
     "output_type": "stream",
     "text": [
      "Model: \"sequential_1\"\n",
      "_________________________________________________________________\n",
      "Layer (type)                 Output Shape              Param #   \n",
      "=================================================================\n",
      "conv2d_1 (Conv2D)            (None, 62, 62, 32)        896       \n",
      "_________________________________________________________________\n",
      "max_pooling2d_1 (MaxPooling2 (None, 31, 31, 32)        0         \n",
      "_________________________________________________________________\n",
      "conv2d_2 (Conv2D)            (None, 29, 29, 64)        18496     \n",
      "_________________________________________________________________\n",
      "max_pooling2d_2 (MaxPooling2 (None, 14, 14, 64)        0         \n",
      "_________________________________________________________________\n",
      "conv2d_3 (Conv2D)            (None, 12, 12, 128)       73856     \n",
      "_________________________________________________________________\n",
      "max_pooling2d_3 (MaxPooling2 (None, 6, 6, 128)         0         \n",
      "_________________________________________________________________\n",
      "conv2d_4 (Conv2D)            (None, 4, 4, 128)         147584    \n",
      "_________________________________________________________________\n",
      "max_pooling2d_4 (MaxPooling2 (None, 2, 2, 128)         0         \n",
      "_________________________________________________________________\n",
      "flatten_1 (Flatten)          (None, 512)               0         \n",
      "_________________________________________________________________\n",
      "dense_1 (Dense)              (None, 64)                32832     \n",
      "_________________________________________________________________\n",
      "dense_2 (Dense)              (None, 4)                 260       \n",
      "=================================================================\n",
      "Total params: 273,924\n",
      "Trainable params: 273,924\n",
      "Non-trainable params: 0\n",
      "_________________________________________________________________\n"
     ]
    }
   ],
   "source": [
    "model = create_model()\n",
    "model.summary()"
   ]
  },
  {
   "cell_type": "code",
   "execution_count": 32,
   "metadata": {},
   "outputs": [],
   "source": [
    "#parameters to the model\n",
    "model.compile(loss = 'sparse_categorical_crossentropy', optimizer = \"Adam\",metrics = ['accuracy'])"
   ]
  },
  {
   "cell_type": "code",
   "execution_count": 78,
   "metadata": {},
   "outputs": [
    {
     "data": {
      "text/plain": [
       "(400, 100)"
      ]
     },
     "execution_count": 78,
     "metadata": {},
     "output_type": "execute_result"
    }
   ],
   "source": [
    "#Length\n",
    "ntrain = len(X_train)\n",
    "ntest = len(X_test)\n",
    "\n",
    "#2^n...2..4..8..16..32..64..\n",
    "batch_size =128\n",
    "\n",
    "ntrain,ntest"
   ]
  },
  {
   "cell_type": "code",
   "execution_count": 34,
   "metadata": {},
   "outputs": [],
   "source": [
    "def gerador(X_train,X_test,y_train,y_test):\n",
    "    # Normalizate the image [between 0 and 255] to [between 0 and 1]\n",
    "    train_datagen = ImageDataGenerator(\n",
    "        rescale = 1./255,\n",
    "        rotation_range = 0,\n",
    "        width_shift_range = 0.2,\n",
    "        height_shift_range= 0.2,\n",
    "        shear_range= 0.2,\n",
    "        zoom_range= 0.2,\n",
    "        horizontal_flip=True,\n",
    "    )\n",
    "\n",
    "    test_datagen = ImageDataGenerator(rescale = 1./255) #Rescale\n",
    "    \n",
    "    # Create the image generators\n",
    "    train_generator = train_datagen.flow(X_train,y_train,batch_size = batch_size)\n",
    "    val_generator = test_datagen.flow(X_test,y_test,batch_size = batch_size)\n",
    "    \n",
    "    return train_generator, val_generator\n",
    "\n",
    "\n",
    "train_generator,test_generator = gerador(X_train,X_test,y_train,y_test)"
   ]
  },
  {
   "cell_type": "code",
   "execution_count": 35,
   "metadata": {},
   "outputs": [],
   "source": [
    "def train(epoch):\n",
    "    history = model.fit_generator(\n",
    "    train_generator,\n",
    "    steps_per_epoch = ntrain // batch_size,\n",
    "    epochs = epoch,\n",
    "    validation_data = test_generator,\n",
    "    validation_steps = ntest // batch_size\n",
    "    )\n",
    "    \n",
    "    return history"
   ]
  },
  {
   "cell_type": "code",
   "execution_count": 81,
   "metadata": {
    "scrolled": true
   },
   "outputs": [
    {
     "name": "stdout",
     "output_type": "stream",
     "text": [
      "Epoch 1/40\n",
      "125/125 [==============================] - 43s 343ms/step - loss: 1.3727 - accuracy: 0.2797 - val_loss: 1.2319 - val_accuracy: 0.4395\n",
      "Epoch 2/40\n",
      "125/125 [==============================] - 42s 333ms/step - loss: 1.1402 - accuracy: 0.4624 - val_loss: 0.9396 - val_accuracy: 0.5950\n",
      "Epoch 3/40\n",
      "125/125 [==============================] - 43s 343ms/step - loss: 0.9462 - accuracy: 0.5476 - val_loss: 0.6180 - val_accuracy: 0.6508\n",
      "Epoch 4/40\n",
      "125/125 [==============================] - 43s 340ms/step - loss: 0.8299 - accuracy: 0.5974 - val_loss: 0.6666 - val_accuracy: 0.6348\n",
      "Epoch 5/40\n",
      "125/125 [==============================] - 44s 348ms/step - loss: 0.7707 - accuracy: 0.6062 - val_loss: 0.6160 - val_accuracy: 0.6756\n",
      "Epoch 6/40\n",
      "125/125 [==============================] - 41s 329ms/step - loss: 0.7195 - accuracy: 0.6310 - val_loss: 0.4882 - val_accuracy: 0.7025\n",
      "Epoch 7/40\n",
      "125/125 [==============================] - 40s 318ms/step - loss: 0.6842 - accuracy: 0.6409 - val_loss: 0.5549 - val_accuracy: 0.6901\n",
      "Epoch 8/40\n",
      "125/125 [==============================] - 42s 333ms/step - loss: 0.6385 - accuracy: 0.6615 - val_loss: 0.5042 - val_accuracy: 0.6813\n",
      "Epoch 9/40\n",
      "125/125 [==============================] - 43s 344ms/step - loss: 0.6190 - accuracy: 0.6666 - val_loss: 0.5187 - val_accuracy: 0.6787\n",
      "Epoch 10/40\n",
      "125/125 [==============================] - 42s 336ms/step - loss: 0.5998 - accuracy: 0.6758 - val_loss: 0.7121 - val_accuracy: 0.6818\n",
      "Epoch 11/40\n",
      "125/125 [==============================] - 41s 329ms/step - loss: 0.5770 - accuracy: 0.6790 - val_loss: 0.5306 - val_accuracy: 0.6870\n",
      "Epoch 12/40\n",
      "125/125 [==============================] - 42s 340ms/step - loss: 0.5745 - accuracy: 0.6845 - val_loss: 0.5175 - val_accuracy: 0.7030\n",
      "Epoch 13/40\n",
      "125/125 [==============================] - 42s 340ms/step - loss: 0.5531 - accuracy: 0.6952 - val_loss: 0.5457 - val_accuracy: 0.6952\n",
      "Epoch 14/40\n",
      "125/125 [==============================] - 42s 337ms/step - loss: 0.5536 - accuracy: 0.6896 - val_loss: 0.5742 - val_accuracy: 0.7216\n",
      "Epoch 15/40\n",
      "125/125 [==============================] - 43s 342ms/step - loss: 0.5518 - accuracy: 0.6950 - val_loss: 0.5122 - val_accuracy: 0.6839\n",
      "Epoch 16/40\n",
      "125/125 [==============================] - 46s 369ms/step - loss: 0.5316 - accuracy: 0.7051 - val_loss: 0.6168 - val_accuracy: 0.6839\n",
      "Epoch 17/40\n",
      "125/125 [==============================] - 47s 373ms/step - loss: 0.5327 - accuracy: 0.6989 - val_loss: 0.4737 - val_accuracy: 0.6947\n",
      "Epoch 18/40\n",
      "125/125 [==============================] - 45s 360ms/step - loss: 0.5210 - accuracy: 0.6998 - val_loss: 0.5095 - val_accuracy: 0.6782\n",
      "Epoch 19/40\n",
      "125/125 [==============================] - 44s 353ms/step - loss: 0.5213 - accuracy: 0.7041 - val_loss: 0.5240 - val_accuracy: 0.7175\n",
      "Epoch 20/40\n",
      "125/125 [==============================] - 44s 351ms/step - loss: 0.5152 - accuracy: 0.7120 - val_loss: 0.4284 - val_accuracy: 0.6999\n",
      "Epoch 21/40\n",
      "125/125 [==============================] - 44s 352ms/step - loss: 0.5068 - accuracy: 0.7101 - val_loss: 0.4579 - val_accuracy: 0.6942\n",
      "Epoch 22/40\n",
      "125/125 [==============================] - 40s 323ms/step - loss: 0.5193 - accuracy: 0.7057 - val_loss: 0.5110 - val_accuracy: 0.7076\n",
      "Epoch 23/40\n",
      "125/125 [==============================] - 40s 322ms/step - loss: 0.5099 - accuracy: 0.7089 - val_loss: 0.4720 - val_accuracy: 0.7144\n",
      "Epoch 24/40\n",
      "125/125 [==============================] - 41s 327ms/step - loss: 0.4954 - accuracy: 0.7170 - val_loss: 0.5081 - val_accuracy: 0.7350\n",
      "Epoch 25/40\n",
      "125/125 [==============================] - 40s 322ms/step - loss: 0.4945 - accuracy: 0.7185 - val_loss: 0.4748 - val_accuracy: 0.7164\n",
      "Epoch 26/40\n",
      "125/125 [==============================] - 40s 323ms/step - loss: 0.4889 - accuracy: 0.7226 - val_loss: 0.4509 - val_accuracy: 0.7211\n",
      "Epoch 27/40\n",
      "125/125 [==============================] - 40s 324ms/step - loss: 0.4902 - accuracy: 0.7181 - val_loss: 0.5969 - val_accuracy: 0.7092\n",
      "Epoch 28/40\n",
      "125/125 [==============================] - 40s 322ms/step - loss: 0.4853 - accuracy: 0.7245 - val_loss: 0.5856 - val_accuracy: 0.7345\n",
      "Epoch 29/40\n",
      "125/125 [==============================] - 40s 322ms/step - loss: 0.4902 - accuracy: 0.7124 - val_loss: 0.5975 - val_accuracy: 0.7113\n",
      "Epoch 30/40\n",
      "125/125 [==============================] - 41s 326ms/step - loss: 0.4801 - accuracy: 0.7234 - val_loss: 0.5001 - val_accuracy: 0.7066\n",
      "Epoch 31/40\n",
      "125/125 [==============================] - 42s 335ms/step - loss: 0.4866 - accuracy: 0.7264 - val_loss: 0.5030 - val_accuracy: 0.7361\n",
      "Epoch 32/40\n",
      "125/125 [==============================] - 40s 320ms/step - loss: 0.4693 - accuracy: 0.7280 - val_loss: 0.1900 - val_accuracy: 0.7107\n",
      "Epoch 33/40\n",
      "125/125 [==============================] - 40s 323ms/step - loss: 0.4767 - accuracy: 0.7281 - val_loss: 0.5096 - val_accuracy: 0.7208\n",
      "Epoch 34/40\n",
      "125/125 [==============================] - 41s 326ms/step - loss: 0.4739 - accuracy: 0.7269 - val_loss: 0.6295 - val_accuracy: 0.7123\n",
      "Epoch 35/40\n",
      "125/125 [==============================] - 40s 323ms/step - loss: 0.4659 - accuracy: 0.7374 - val_loss: 0.5774 - val_accuracy: 0.7092\n",
      "Epoch 36/40\n",
      "125/125 [==============================] - 40s 324ms/step - loss: 0.4651 - accuracy: 0.7312 - val_loss: 0.6172 - val_accuracy: 0.7107\n",
      "Epoch 37/40\n",
      "125/125 [==============================] - 43s 341ms/step - loss: 0.4684 - accuracy: 0.7324 - val_loss: 0.5385 - val_accuracy: 0.7045\n",
      "Epoch 38/40\n",
      "125/125 [==============================] - 43s 344ms/step - loss: 0.4586 - accuracy: 0.7303 - val_loss: 0.6173 - val_accuracy: 0.7252\n",
      "Epoch 39/40\n",
      "125/125 [==============================] - 43s 343ms/step - loss: 0.4564 - accuracy: 0.7344 - val_loss: 0.5410 - val_accuracy: 0.7226\n",
      "Epoch 40/40\n",
      "125/125 [==============================] - 41s 324ms/step - loss: 0.4654 - accuracy: 0.7294 - val_loss: 0.4223 - val_accuracy: 0.7252\n"
     ]
    }
   ],
   "source": [
    "history = train(40)"
   ]
  },
  {
   "cell_type": "markdown",
   "metadata": {},
   "source": [
    "#### Save Weight Model "
   ]
  },
  {
   "cell_type": "code",
   "execution_count": 82,
   "metadata": {},
   "outputs": [],
   "source": [
    "#model.save_weights('./save_weight_train/weight_01')"
   ]
  },
  {
   "cell_type": "markdown",
   "metadata": {},
   "source": [
    "#### Plot"
   ]
  },
  {
   "cell_type": "code",
   "execution_count": 83,
   "metadata": {
    "scrolled": false
   },
   "outputs": [
    {
     "data": {
      "image/png": "[encoded data removed]",
      "text/plain": [
       "<Figure size 432x288 with 1 Axes>"
      ]
     },
     "metadata": {
      "needs_background": "light"
     },
     "output_type": "display_data"
    },
    {
     "data": {
      "image/png": "[encoded data removed]",
      "text/plain": [
       "<Figure size 432x288 with 1 Axes>"
      ]
     },
     "metadata": {
      "needs_background": "light"
     },
     "output_type": "display_data"
    }
   ],
   "source": [
    "def plotar():\n",
    "    acc = history.history['accuracy']\n",
    "    val_acc = history.history['val_accuracy']\n",
    "    loss = history.history['loss']\n",
    "    val_loss = history.history['val_loss']\n",
    "\n",
    "    epochs = range(1,len(acc)+1)\n",
    "\n",
    "    plt.plot(epochs,acc,'*-b',label = 'Training Accurarcy')\n",
    "    plt.plot(epochs,val_acc,'o-r',label = 'Validation Accurarcy')\n",
    "    plt.title('Training and Valdation Accurarcy')\n",
    "    plt.legend()\n",
    "\n",
    "    plt.figure()\n",
    "    plt.plot(epochs,loss,'*-b',label = 'Training loss')\n",
    "    plt.plot(epochs,val_loss,'o-r',label = 'Validation loss')\n",
    "    plt.title('Training and Validation Accurarcy')\n",
    "    plt.legend()\n",
    "\n",
    "    plt.show()\n",
    "    \n",
    "plotar()"
   ]
  },
  {
   "cell_type": "markdown",
   "metadata": {},
   "source": [
    "# Attempt 2 - Continue"
   ]
  },
  {
   "cell_type": "code",
   "execution_count": 77,
   "metadata": {},
   "outputs": [
    {
     "name": "stdout",
     "output_type": "stream",
     "text": [
      "Epoch 1/2\n",
      "12/12 [==============================] - 126s 10s/step - loss: 0.4441 - accuracy: 0.7373 - val_loss: 0.4181 - val_accuracy: 0.7655\n",
      "Epoch 2/2\n",
      "12/12 [==============================] - 131s 11s/step - loss: 0.4363 - accuracy: 0.7463 - val_loss: 0.4242 - val_accuracy: 0.7624\n"
     ]
    }
   ],
   "source": [
    "#model = create_model()\n",
    "\n",
    "#model.load_weights('./save_weight_train/weight_01')\n",
    "\n",
    "history = train(2)"
   ]
  }
 ],
 "metadata": {
  "kernelspec": {
   "display_name": "Python 3",
   "language": "python",
   "name": "python3"
  },
  "language_info": {
   "codemirror_mode": {
    "name": "ipython",
    "version": 3
   },
   "file_extension": ".py",
   "mimetype": "text/x-python",
   "name": "python",
   "nbconvert_exporter": "python",
   "pygments_lexer": "ipython3",
   "version": "3.6.8"
  }
 },
 "nbformat": 4,
 "nbformat_minor": 2
}
